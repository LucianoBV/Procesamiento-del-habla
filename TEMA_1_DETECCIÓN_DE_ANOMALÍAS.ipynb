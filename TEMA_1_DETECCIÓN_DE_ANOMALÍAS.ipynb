{
  "nbformat": 4,
  "nbformat_minor": 0,
  "metadata": {
    "colab": {
      "provenance": [],
      "authorship_tag": "ABX9TyO6EdJzlxHwP+vBulklilYn",
      "include_colab_link": true
    },
    "kernelspec": {
      "name": "python3",
      "display_name": "Python 3"
    },
    "language_info": {
      "name": "python"
    }
  },
  "cells": [
    {
      "cell_type": "markdown",
      "metadata": {
        "id": "view-in-github",
        "colab_type": "text"
      },
      "source": [
        "<a href=\"https://colab.research.google.com/github/LucianoBV/Procesamiento-del-habla/blob/main/TEMA_1_DETECCI%C3%93N_DE_ANOMAL%C3%8DAS.ipynb\" target=\"_parent\"><img src=\"https://colab.research.google.com/assets/colab-badge.svg\" alt=\"Open In Colab\"/></a>"
      ]
    },
    {
      "cell_type": "markdown",
      "source": [
        "# DESAFÍO OBLIGATORIO FINAL MARTÍN FIERRO\n",
        "**MATERIA:** Procesamiento del habla\n",
        "\n",
        "**DOCENTE:** Ingeniera en Sistemas de Información Ana Laura Diedrichs\n",
        "\n",
        "**ALUMNO:** Vargas Luciano Benjamín\n",
        "\n"
      ],
      "metadata": {
        "id": "7JaKd2s9TenB"
      }
    },
    {
      "cell_type": "markdown",
      "source": [
        "# PRESENTACION DEL DATA SET\n",
        "Para este proyecto vamos a utilizar los libros gauchescos EL Martín Fierro y Fausto (de Estanislao Lopez).\n"
      ],
      "metadata": {
        "id": "yTAqX0_Kt0MD"
      }
    },
    {
      "cell_type": "markdown",
      "source": [
        "### Descargamos los archivos desde la url"
      ],
      "metadata": {
        "id": "E0HCWTP_jJ4s"
      }
    },
    {
      "cell_type": "code",
      "source": [
        "!pip install pdfplumber"
      ],
      "metadata": {
        "colab": {
          "base_uri": "https://localhost:8080/"
        },
        "id": "uJF03Q8dX8uX",
        "outputId": "8c7e316e-cdbf-41e5-8d4d-ec6a44be89b7",
        "collapsed": true
      },
      "execution_count": null,
      "outputs": [
        {
          "output_type": "stream",
          "name": "stdout",
          "text": [
            "Requirement already satisfied: pdfplumber in /usr/local/lib/python3.10/dist-packages (0.11.4)\n",
            "Requirement already satisfied: pdfminer.six==20231228 in /usr/local/lib/python3.10/dist-packages (from pdfplumber) (20231228)\n",
            "Requirement already satisfied: Pillow>=9.1 in /usr/local/lib/python3.10/dist-packages (from pdfplumber) (11.0.0)\n",
            "Requirement already satisfied: pypdfium2>=4.18.0 in /usr/local/lib/python3.10/dist-packages (from pdfplumber) (4.30.1)\n",
            "Requirement already satisfied: charset-normalizer>=2.0.0 in /usr/local/lib/python3.10/dist-packages (from pdfminer.six==20231228->pdfplumber) (3.4.0)\n",
            "Requirement already satisfied: cryptography>=36.0.0 in /usr/local/lib/python3.10/dist-packages (from pdfminer.six==20231228->pdfplumber) (43.0.3)\n",
            "Requirement already satisfied: cffi>=1.12 in /usr/local/lib/python3.10/dist-packages (from cryptography>=36.0.0->pdfminer.six==20231228->pdfplumber) (1.17.1)\n",
            "Requirement already satisfied: pycparser in /usr/local/lib/python3.10/dist-packages (from cffi>=1.12->cryptography>=36.0.0->pdfminer.six==20231228->pdfplumber) (2.22)\n"
          ]
        }
      ]
    },
    {
      "cell_type": "code",
      "execution_count": null,
      "metadata": {
        "id": "ZKMVZJ_eS4Jz"
      },
      "outputs": [],
      "source": [
        "import requests\n",
        "import os\n",
        "import pdfplumber"
      ]
    },
    {
      "cell_type": "code",
      "source": [
        "#creo la variable url\n",
        "url = \"https://www.argentina.gob.ar/sites/default/files/hernandez_jose_-_el_gaucho_martin_fierro.pdf\"\n",
        "\n",
        "#hago el get y guardo la respuesta\n",
        "response = requests.get(url)\n",
        "\n",
        "#si la respuesta es ok, abro el archivo, descargo los datos y con eso escribo el archivo\n",
        "if response.status_code == 200:\n",
        "  Martin = \"el_gaucho_martin_fierro.pdf\"\n",
        "  with open(Martin, \"wb\") as file:\n",
        "    file.write(response.content)\n",
        "#imprimo el peso para verificar que se haya descargado correctamente\n",
        "  file_size = os.path.getsize(Martin)\n",
        "  print(f\"PDF descargado exitosamente, tamaño del archivo: {file_size} bytes\")\n",
        "else:\n",
        "#veo cual es el código de estado del response si la respuesta no fue 200\n",
        "  print(f\"Error al descargar el PDF. Código de estado: {response.status_code}\")"
      ],
      "metadata": {
        "colab": {
          "base_uri": "https://localhost:8080/"
        },
        "id": "8fVL9ccGXw_-",
        "outputId": "b197e9b0-ff30-4430-9119-8a867ac81994"
      },
      "execution_count": null,
      "outputs": [
        {
          "output_type": "stream",
          "name": "stdout",
          "text": [
            "PDF descargado exitosamente, tamaño del archivo: 513796 bytes\n"
          ]
        }
      ]
    },
    {
      "cell_type": "code",
      "source": [
        "#creo la variable url\n",
        "url = \"https://www.gba.gob.ar/sites/default/files/cultura/archivos/FAUSTO-Estanislado_del_Campo.pdf\"\n",
        "\n",
        "#hago el get y guardo la respuesta\n",
        "response = requests.get(url)\n",
        "\n",
        "#si la respuesta es ok, abro el archivo, descargo los datos y con eso escribo el archivo\n",
        "if response.status_code == 200:\n",
        "  Fausto = \"FAUSTO-Estanislado_del_Campo.pdf\"\n",
        "  with open(Fausto, \"wb\") as file:\n",
        "    file.write(response.content)\n",
        "#imprimo el peso para verificar que se haya descargado correctamente\n",
        "  file_size = os.path.getsize(Fausto)\n",
        "  print(f\"PDF descargado exitosamente, tamaño del archivo: {file_size} bytes\")\n",
        "else:\n",
        "#veo cual es el código de estado del response si la respuesta no fue 200\n",
        "  print(f\"Error al descargar el PDF. Código de estado: {response.status_code}\")"
      ],
      "metadata": {
        "colab": {
          "base_uri": "https://localhost:8080/"
        },
        "outputId": "23b3f726-d616-461a-b6e6-743b9431b1e6",
        "id": "pxUTYMHm1Bum"
      },
      "execution_count": null,
      "outputs": [
        {
          "output_type": "stream",
          "name": "stdout",
          "text": [
            "PDF descargado exitosamente, tamaño del archivo: 157971 bytes\n"
          ]
        }
      ]
    },
    {
      "cell_type": "markdown",
      "source": [
        "# PREPROCESAMIENTO DE LOS TEXTOS"
      ],
      "metadata": {
        "id": "H7cAK8r2jzPV"
      }
    },
    {
      "cell_type": "markdown",
      "source": [
        "### Función para verificar cada página del libro y excluirla si no es texto específico del libro"
      ],
      "metadata": {
        "id": "WLZ35T6WntYs"
      }
    },
    {
      "cell_type": "code",
      "source": [
        "def pagina_a_procesar(texto_pagina):\n",
        "    # Palabras clave para omitir ciertas secciones como índice, prólogo, anexos, etc.\n",
        "    palabras_omitir = ['Índice', 'Prólogo', 'Anexo', 'Imágenes', 'Agradecimientos', 'Dedicatoria', 'http',]\n",
        "\n",
        "    # Revisar si la página contiene alguna palabra que indique que se excluirá\n",
        "    for palabra in palabras_omitir:\n",
        "        if palabra.lower() in texto_pagina.lower():\n",
        "            return False\n",
        "    return True\n",
        "\n",
        "# Función para extraer el texto importante del PDF\n",
        "def extraer_texto(filename):\n",
        "    texto_relevante = ''\n",
        "\n",
        "    with pdfplumber.open(filename) as pdf:\n",
        "        pagina_inicio=0\n",
        "        pagina_fin=len(pdf.pages)\n",
        "        # Iterar sobre las páginas en el rango seleccionado\n",
        "        for pagina_numero in range(pagina_inicio, pagina_fin):\n",
        "            pagina = pdf.pages[pagina_numero]\n",
        "            texto_pagina = pagina.extract_text()\n",
        "\n",
        "            # Si la página no tiene texto o es irrelevante, omitirla\n",
        "            if texto_pagina and pagina_a_procesar(texto_pagina):\n",
        "                texto_relevante += texto_pagina + '\\n'\n",
        "\n",
        "    return texto_relevante\n",
        "\n",
        " # Extraer el texto relevante del rango de páginas\n",
        "Martin_Fierro = extraer_texto(Martin)\n",
        "Fausto_Estanislao = extraer_texto(Fausto)\n"
      ],
      "metadata": {
        "collapsed": true,
        "id": "ssdZLw08ROD0"
      },
      "execution_count": null,
      "outputs": []
    },
    {
      "cell_type": "code",
      "source": [
        "# Mostrar el texto extraído\n",
        "print(\"Texto relevante extraído:\")\n",
        "print(Martin_Fierro)"
      ],
      "metadata": {
        "collapsed": true,
        "id": "YRg-IQTetvSY"
      },
      "execution_count": null,
      "outputs": []
    },
    {
      "cell_type": "code",
      "source": [
        "# Mostrar el texto extraído\n",
        "print(\"Texto relevante extraído:\")\n",
        "print(Fausto_Estanislao)"
      ],
      "metadata": {
        "id": "RGE9FJgBpXKO",
        "collapsed": true
      },
      "execution_count": null,
      "outputs": []
    },
    {
      "cell_type": "markdown",
      "source": [
        "### Función para dividir el texto en estrofas, las limpia y nos devuelve una lista estructurada que representa el corpus del poema."
      ],
      "metadata": {
        "id": "p7Yc6t-skTaz"
      }
    },
    {
      "cell_type": "code",
      "source": [
        "# Importamos el  módulo re, que proporciona soporte para expresiones regulares para la búsqueda de patrones dentro del texto.\n",
        "import re\n",
        "\n",
        "def crear_corpus(texto):\n",
        "    # Reemplazar puntos finales y signos de exclamación por doble espacio para separar estrofas\n",
        "    texto_modificado = re.sub(r'([.!])', r'\\1  ', texto)\n",
        "\n",
        "    # Dividir el texto en estrofas usando doble espacio como delimitador\n",
        "    estrofas = texto_modificado.split('  ')\n",
        "\n",
        "    # Limpiar estrofas vacías y eliminar espacios adicionales\n",
        "    estrofas = [estrofa.strip() for estrofa in estrofas if estrofa.strip()]\n",
        "\n",
        "    return estrofas"
      ],
      "metadata": {
        "id": "txdh267UcL4n",
        "collapsed": true
      },
      "execution_count": null,
      "outputs": []
    },
    {
      "cell_type": "code",
      "source": [
        "# Crear el corpus de documentos\n",
        "corpus_documentos_Martin = crear_corpus(Martin_Fierro)\n",
        "corpus_documentos_Fausto = crear_corpus(Fausto_Estanislao)"
      ],
      "metadata": {
        "id": "Q0vxqVWBwZdE"
      },
      "execution_count": null,
      "outputs": []
    },
    {
      "source": [
        "cantidad_estrofas = len(corpus_documentos_Martin)\n",
        "print(f\"El corpus 'corpus_documentos_Martin' contiene {cantidad_estrofas} estrofas del Martín Fierro.\")"
      ],
      "cell_type": "code",
      "metadata": {
        "id": "9YKyDzc5lFSr"
      },
      "execution_count": null,
      "outputs": []
    },
    {
      "source": [
        "cantidad_estrofas = len(corpus_documentos_Fausto)\n",
        "print(f\"El corpus 'corpus_documentos_Fausto' contiene {cantidad_estrofas} estrofas del Fausto.\")"
      ],
      "cell_type": "code",
      "metadata": {
        "id": "U2ZvYZZklL4j"
      },
      "execution_count": null,
      "outputs": []
    },
    {
      "cell_type": "code",
      "source": [
        "# Imprimir el corpus para verificar los resultados\n",
        "for idx, documento in enumerate(corpus_documentos_Martin):\n",
        "    print(f\"Documento {idx+1}: {documento}\")"
      ],
      "metadata": {
        "collapsed": true,
        "id": "8L_dWpGawWWm"
      },
      "execution_count": null,
      "outputs": []
    },
    {
      "cell_type": "code",
      "source": [
        "# Imprimir el corpus para verificar los resultados\n",
        "for idx, documento in enumerate(corpus_documentos_Fausto):\n",
        "    print(f\"Documento {idx+1}: {documento}\")"
      ],
      "metadata": {
        "collapsed": true,
        "id": "5B_sUB88wiIs"
      },
      "execution_count": null,
      "outputs": []
    },
    {
      "cell_type": "markdown",
      "source": [
        "# TEMA 1 DETECCIÓN DE ANOMALÍAS\n",
        "\n",
        "El objetivo es entrenar un modelo para que distinga si el texto es o no parte del Martín Fierro.\n",
        "Para ello debe entrenar un modelo de embeddings para el texto de Martín Fierro.\n",
        "Luego comprobar que usando dicho modelo de embeddings con otros textos,usando la distancia coseno, por ejemplo. Podría revisar otras medidas de distancias. Contrastar con otro libro de poesía gauchesca como Fausto (de Estanislao Lopez).\n"
      ],
      "metadata": {
        "id": "Ru4wr76JlxT6"
      }
    },
    {
      "cell_type": "code",
      "source": [
        "# Importamos librerias necesarias\n",
        "import gensim\n",
        "from gensim.models import Word2Vec\n",
        "from sklearn.metrics.pairwise import cosine_similarity\n",
        "import numpy as np\n",
        "from sklearn.model_selection import train_test_split"
      ],
      "metadata": {
        "id": "qDiSCd0ZQzvh"
      },
      "execution_count": null,
      "outputs": []
    },
    {
      "cell_type": "markdown",
      "source": [
        "### Tokenización de los textos"
      ],
      "metadata": {
        "id": "IbND8Tr61P8C"
      }
    },
    {
      "source": [
        "# Tokenización para que el modelo entienda el texto\n",
        "martin_fierro_tokens = [line.split() for line in corpus_documentos_Martin if line]\n",
        "fausto_tokens = [line.split() for line in corpus_documentos_Fausto if line]"
      ],
      "cell_type": "code",
      "metadata": {
        "id": "KvRi2pa-xZQo"
      },
      "execution_count": null,
      "outputs": []
    },
    {
      "cell_type": "code",
      "source": [
        "print(martin_fierro_tokens)"
      ],
      "metadata": {
        "id": "i1lmuLVPRgYG",
        "collapsed": true
      },
      "execution_count": null,
      "outputs": []
    },
    {
      "cell_type": "code",
      "source": [
        "print(fausto_tokens)"
      ],
      "metadata": {
        "id": "JS2xO7UKRoqq",
        "collapsed": true
      },
      "execution_count": null,
      "outputs": []
    },
    {
      "cell_type": "markdown",
      "source": [
        "### Modelo de embeding elegido Word2Vec"
      ],
      "metadata": {
        "id": "4V-f7CXSyerZ"
      }
    },
    {
      "cell_type": "code",
      "source": [
        "# Entrenamos el modelo Word2Vec\n",
        "modelo_w2v = Word2Vec(sentences=martin_fierro_tokens, vector_size=100, window=5, min_count=1, workers=4)"
      ],
      "metadata": {
        "id": "LKGQkcpUQtg5"
      },
      "execution_count": null,
      "outputs": []
    },
    {
      "cell_type": "markdown",
      "source": [
        "### Función para obtener un vector"
      ],
      "metadata": {
        "id": "jNfdZPT11qNb"
      }
    },
    {
      "cell_type": "code",
      "source": [
        "# Creamos esta función para obtener un vector que capture el significado del texto completo.\n",
        "# Lo hacemos utilizando el modelo Word2Vec pre-entrenado.\n",
        "def representar_texto(texto, modelo):\n",
        "    vectores = [modelo.wv[word] for word in texto.split() if word in modelo.wv]\n",
        "    return np.mean(vectores, axis=0) if vectores else np.zeros(modelo.vector_size)"
      ],
      "metadata": {
        "id": "RzVTdRBfQteH"
      },
      "execution_count": null,
      "outputs": []
    },
    {
      "cell_type": "code",
      "source": [
        "# Representaciones de los dos textos completos\n",
        "vector_martin_fierro = representar_texto(' '.join([' '.join(line) for line in martin_fierro_tokens]), modelo_w2v)\n",
        "vector_fausto = representar_texto(' '.join([' '.join(line) for line in fausto_tokens]), modelo_w2v)"
      ],
      "metadata": {
        "id": "pMpo-fGoQtbR"
      },
      "execution_count": null,
      "outputs": []
    },
    {
      "cell_type": "code",
      "source": [
        "print(vector_martin_fierro)"
      ],
      "metadata": {
        "collapsed": true,
        "id": "9f1pvMWAR8Ba"
      },
      "execution_count": null,
      "outputs": []
    },
    {
      "cell_type": "markdown",
      "source": [
        "### Comparación usando distancia coseno y resultados"
      ],
      "metadata": {
        "id": "MrxUhi_U15Hu"
      }
    },
    {
      "cell_type": "code",
      "source": [
        "similitud_coseno = cosine_similarity([vector_martin_fierro], [vector_fausto])"
      ],
      "metadata": {
        "id": "Tub1zL6cQtYY"
      },
      "execution_count": null,
      "outputs": []
    },
    {
      "cell_type": "code",
      "source": [
        "print(f\"Similitud entre Martín Fierro y Fausto: {similitud_coseno[0][0]:.4f}\")"
      ],
      "metadata": {
        "id": "R3NDc-8kQtVi"
      },
      "execution_count": null,
      "outputs": []
    },
    {
      "cell_type": "markdown",
      "source": [
        "Comparamos qué tan similar es el texto de \"Martín Fierro\" al texto de \"Fausto\" basándonos en sus representaciones numéricas usando la similitud coseno que es una forma de medir qué tan parecidos son dos vectores en términos de su dirección.\n",
        "Como podemos ver los resultados muestran que los dos textos son muy parecidos."
      ],
      "metadata": {
        "id": "r2rmZHwSIETf"
      }
    },
    {
      "cell_type": "markdown",
      "source": [
        "### Comparacion usando la distancia eucleciana y resultados"
      ],
      "metadata": {
        "id": "ZJ9Pd96V2c4E"
      }
    },
    {
      "source": [
        "from scipy.spatial.distance import euclidean\n",
        "\n",
        "# Calcular la distancia euclidiana entre los vectores\n",
        "distancia = euclidean(vector_martin_fierro, vector_fausto)\n",
        "\n",
        "# Imprimir la distancia\n",
        "print(f\"Distancia euclidiana entre Martín Fierro y Fausto: {distancia:.4f}\")"
      ],
      "cell_type": "code",
      "metadata": {
        "id": "1fTal4Ei6cGe"
      },
      "execution_count": null,
      "outputs": []
    },
    {
      "cell_type": "markdown",
      "source": [
        "A diferencia de la similitud coseno que se centra en la orientación de los vectores, la distancia euclidiana se centra en la magnitud de la diferencia entre ellos.\n",
        "Como observamos en los resultados es muy baja la distancia indicando que son muy parecidos los textos.\n"
      ],
      "metadata": {
        "id": "lLB6Ev0W64c6"
      }
    },
    {
      "cell_type": "markdown",
      "source": [
        "Explicación de los Cambios:\n",
        "\n",
        "Definir obtener_embedding_estrofa: El código ahora incluye la definición de la función obtener_embedding_estrofa. Esta función toma una cadena de texto (la estrofa) y el modelo Word2Vec como entrada, y devuelve el vector de embedding para esa estrofa.\n",
        "\n",
        "Renombrar modelo a modelo_w2v: Para mayor claridad y consistencia, la variable modelo (que presumiblemente se refiere a tu modelo Word2Vec) ha sido renombrada a modelo_w2v.\n",
        "\n",
        "Calcular embeddings_train: El código ahora incluye un marcador de posición para calcular embeddings_train. Reemplaza este marcador de posición con tu lógica real para calcular los embeddings para los datos de entrenamiento.\n",
        "\n",
        "Usar modelo_w2v en las Llamadas a la Función: Las llamadas a obtener_embedding_estrofa se han actualizado para usar modelo_w2v como el argumento del modelo."
      ],
      "metadata": {
        "id": "qmQC-JeWNVMu"
      }
    },
    {
      "cell_type": "markdown",
      "source": [
        "### Comparacion de una estrofa del Martin Fierro versus otra estrofa del Fausto"
      ],
      "metadata": {
        "id": "BVsfEOIo3OV0"
      }
    },
    {
      "cell_type": "code",
      "source": [
        "# Define la función obtener_embedding_estrofa\n",
        "def obtener_embedding_estrofa(estrofa, modelo):\n",
        "    \"\"\"\n",
        "    Obtiene el embedding (representación vectorial) de una estrofa utilizando un modelo Word2Vec.\n",
        "\n",
        "    Args:\n",
        "        estrofa (str): La estrofa de texto.\n",
        "        modelo (Word2Vec): El modelo Word2Vec pre-entrenado.\n",
        "\n",
        "    Returns:\n",
        "        numpy.ndarray: El embedding de la estrofa.\n",
        "    \"\"\"\n",
        "    tokens = estrofa.split()\n",
        "    vectores = [modelo.wv[token] for token in tokens if token in modelo.wv]\n",
        "    return np.mean(vectores, axis=0) if vectores else np.zeros(modelo.vector_size)"
      ],
      "metadata": {
        "id": "iYsn-NKE5wD-"
      },
      "execution_count": null,
      "outputs": []
    },
    {
      "cell_type": "code",
      "source": [
        "# 1. Seleccionar ejemplos de estrofas\n",
        "estrofa_martin_fierro = corpus_documentos_Martin[10]  # Ejemplo de estrofa del Martín Fierro\n",
        "estrofa_fausto = corpus_documentos_Fausto[5]  # Ejemplo de estrofa del Fausto"
      ],
      "metadata": {
        "id": "5IwZ6WJM55cn"
      },
      "execution_count": null,
      "outputs": []
    },
    {
      "cell_type": "code",
      "source": [
        "# 2. Calcular embeddings de las estrofas\n",
        "embedding_mf = obtener_embedding_estrofa(estrofa_martin_fierro, modelo_w2v)\n",
        "embedding_fausto = obtener_embedding_estrofa(estrofa_fausto, modelo_w2v)"
      ],
      "metadata": {
        "id": "Y8t4wSNB58k-"
      },
      "execution_count": null,
      "outputs": []
    },
    {
      "cell_type": "code",
      "source": [
        "# 3. Calcular embedding promedio del Martín Fierro\n",
        "embeddings_train = [obtener_embedding_estrofa(estrofa, modelo_w2v) for estrofa in corpus_documentos_Martin]\n",
        "embedding_promedio_mf = np.mean(embeddings_train, axis=0)"
      ],
      "metadata": {
        "id": "vJj8Yt-k5_Oe"
      },
      "execution_count": null,
      "outputs": []
    },
    {
      "cell_type": "code",
      "source": [
        "# 4. Calcular distancias con cosine_similarity\n",
        "distancia_mf_promedio = cosine_similarity([embedding_mf], [embedding_promedio_mf])[0][0]\n",
        "distancia_fausto_promedio = cosine_similarity([embedding_fausto], [embedding_promedio_mf])[0][0]"
      ],
      "metadata": {
        "id": "wtCQ9dT76DVY"
      },
      "execution_count": null,
      "outputs": []
    },
    {
      "cell_type": "code",
      "source": [
        "# 5. Imprimir resultados\n",
        "print(f\"Estrofa Martín Fierro: {estrofa_martin_fierro}\")\n",
        "print(f\"Estrofa Fausto: {estrofa_fausto}\")\n",
        "print(f\"Distancia estrofa MF a promedio MF: {distancia_mf_promedio:.4f}\")\n",
        "print(f\"Distancia estrofa Fausto a promedio MF: {distancia_fausto_promedio:.4f}\")"
      ],
      "metadata": {
        "id": "Tfw1DWhQ6Gte"
      },
      "execution_count": null,
      "outputs": []
    },
    {
      "source": [
        "# Calcula la distancia euclidiana\n",
        "distancia = euclidean(embedding_mf, embedding_fausto)\n",
        "\n",
        "# Imprime la distancia\n",
        "print(f\"Distancia euclidiana entre la estrofa del Martín Fierro y la estrofa del Fausto: {distancia:.4f}\")"
      ],
      "cell_type": "code",
      "metadata": {
        "id": "DB5xNpicTInV"
      },
      "execution_count": null,
      "outputs": []
    },
    {
      "cell_type": "markdown",
      "source": [
        "### Explicación:\n",
        "\n",
        "**Seleccionar ejemplos de estrofas:**\n",
        "\n",
        "Elegimos ejemplos de estrofas del Martín Fierro y del Fausto utilizando los corpus creados previamente.\n",
        "\n",
        "**Calcular embeddings de las estrofas:**\n",
        "\n",
        "Se utiliza la función obtener_embedding_estrofa para calcular los embeddings de las estrofas seleccionadas.\n",
        "\n",
        "**Calcular embedding promedio del Martín Fierro:**\n",
        "\n",
        "Se utiliza el embedding promedio del Martín Fierro, calculado previamente como embedding_promedio_mf, como referencia.\n",
        "\n",
        "**Calcular distancias:**\n",
        "\n",
        "Se utiliza la distancia coseno y euclediana para calcular la similitud entre los embeddings de las estrofas y el embedding promedio del Martín Fierro.\n",
        "\n",
        "**Imprimir resultados:** Se muestran las estrofas seleccionadas, la distancia de la estrofa del Martín Fierro al promedio del Martín Fierro y la distancia de la estrofa del Fausto al promedio del Martín Fierro.\n",
        "\n"
      ],
      "metadata": {
        "id": "5vxHhq-bH9M4"
      }
    },
    {
      "cell_type": "markdown",
      "source": [
        "### **Conclusión:**\n",
        "\n",
        "\n",
        "El análisis realizado empleando Word2Vec para obtener embeddings de las estrofas del Martín Fierro y el Fausto, junto con la aplicación de la similitud coseno y la distancia euclidiana, ha revelado una alta similitud entre las obras.\n",
        "\n",
        "Similitud Coseno: Los resultados de la similitud coseno indican una fuerte relación entre los vectores que representan las estrofas de ambas obras, lo que sugiere una notable semejanza en su estilo y vocabulario.\n",
        "\n",
        "Distancia Euclidiana: La distancia euclidiana, por otro lado, también ha arrojado valores bajos, confirmando la proximidad entre las estrofas en términos de su representación numérica.\n",
        "\n",
        "Contexto: Esta similitud puede ser atribuida al hecho de que ambas obras pertenecen al género de la poesía gauchesca, compartiendo características lingüísticas y temáticas propias de la cultura y el habla popular de la región pampeana argentina.\n",
        "\n"
      ],
      "metadata": {
        "id": "BbAIU_bEAbAc"
      }
    },
    {
      "cell_type": "markdown",
      "source": [
        "#Conclusión Final:\n",
        "\n",
        "El análisis realizado con Word2Vec, la similitud coseno y la distancia euclidiana proporciona evidencia clara y sólida de la notable similitud entre el Martín Fierro y el Fausto en términos de su estilo y vocabulario gauchesco."
      ],
      "metadata": {
        "id": "1X0xOWpFE2fA"
      }
    }
  ]
}