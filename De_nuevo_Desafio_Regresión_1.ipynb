{
  "nbformat": 4,
  "nbformat_minor": 0,
  "metadata": {
    "colab": {
      "provenance": [],
      "include_colab_link": true
    },
    "kernelspec": {
      "name": "python3",
      "display_name": "Python 3"
    },
    "language_info": {
      "name": "python"
    }
  },
  "cells": [
    {
      "cell_type": "markdown",
      "metadata": {
        "id": "view-in-github",
        "colab_type": "text"
      },
      "source": [
        "<a href=\"https://colab.research.google.com/github/LucianoBV/Procesamiento-del-habla/blob/main/De_nuevo_Desafio_Regresi%C3%B3n_1.ipynb\" target=\"_parent\"><img src=\"https://colab.research.google.com/assets/colab-badge.svg\" alt=\"Open In Colab\"/></a>"
      ]
    },
    {
      "cell_type": "markdown",
      "source": [
        "# INDICACIONES\n",
        "\n",
        "1) Cada uno debe completar las consignas indicadas en este notebook.\n",
        "\n",
        "2) Deben postear como solución enlace a su notebook colab público y también debe estar en su repositorio GitHub.\n",
        "\n",
        "3) No pueden repetir el mismo dataset que ya haya definido un compañero.\n",
        "\n",
        "4) copias explícitas de secciones enteras del trabajo de otro será penalizado disminuyendo su puntuación.\n",
        "\n",
        "5) No se olvide de añadir las fuentes de inspiración de su código (blogs, prompts de chatgpt o similar).\n",
        "\n",
        "6) Además de todo el código que agregue, es importante que sepa interpretarlo. Agregue texto explicativo en cada sección. Esto le ayudará al momento del coloquio / parcial\n",
        "\n",
        "7) Revise las fecha límite de entrega de este trabajo"
      ],
      "metadata": {
        "id": "BSeucmV-KLmJ"
      }
    },
    {
      "cell_type": "markdown",
      "source": [
        "# Dataset\n",
        "\n",
        "Genere un dataset sintético con al menos 4 variables y una variable continua para usarlo luego en regresión.\n",
        "\n"
      ],
      "metadata": {
        "id": "PA_K-G-ztGNZ"
      }
    },
    {
      "cell_type": "markdown",
      "source": [
        "# Detalles del dataset:\n",
        "\n",
        "Producto: Una variable categórica con tres categorías: A, B, C.\n",
        "\n",
        "Ubicación: Una variable categórica con cuatro categorías: Norte, Sur, Este, Oeste.\n",
        "\n",
        "Mes: Una variable categórica con 12 categorías (nombres de meses simulados).\n",
        "\n",
        "Gasto de Publicidad: Una variable continua que representa el gasto en publicidad (entre 500 y 5000).\n",
        "\n",
        "Ventas: Una variable continua calculada en base a las anteriores con una fórmula simulada.\n",
        "\n",
        "Objetivo del análisis:\n",
        "Predecir las ventas usando un modelo de regresión que tenga en cuenta las características del producto, la ubicación, el mes y el gasto en publicidad."
      ],
      "metadata": {
        "id": "9b7cz1ojDKfd"
      }
    },
    {
      "cell_type": "code",
      "source": [
        "import pandas as pd\n",
        "import numpy as np\n",
        "from sklearn.model_selection import train_test_split\n",
        "from sklearn.preprocessing import StandardScaler, OneHotEncoder\n",
        "from sklearn.compose import ColumnTransformer\n",
        "from sklearn.pipeline import Pipeline\n",
        "from sklearn.linear_model import LinearRegression\n",
        "from sklearn.ensemble import RandomForestRegressor\n",
        "from sklearn.metrics import mean_squared_error, r2_score\n",
        "import matplotlib.pyplot as plt\n",
        "from sklearn.linear_model import Ridge"
      ],
      "metadata": {
        "id": "7NQF15AiGIL3"
      },
      "execution_count": 74,
      "outputs": []
    },
    {
      "cell_type": "code",
      "source": [
        "# Configuración del generador\n",
        "np.random.seed(42)\n",
        "\n",
        "# Parámetros del dataset\n",
        "n_samples = 500\n",
        "\n",
        "# Variables\n",
        "categorias_producto = ['A', 'B', 'C']\n",
        "ubicaciones = ['Norte', 'Sur', 'Este', 'Oeste']\n",
        "meses = [f'Mes_{i}' for i in range(1, 13)]\n",
        "\n",
        "# Generación del dataset\n",
        "data = {\n",
        "    \"Producto\": np.random.choice(categorias_producto, size=n_samples),\n",
        "    \"Ubicación\": np.random.choice(ubicaciones, size=n_samples),\n",
        "    \"Mes\": np.random.choice(meses, size=n_samples),\n",
        "    \"Gasto_Publicidad\": np.random.uniform(500, 5000, size=n_samples),  # Variable continua\n",
        "}\n",
        "\n",
        "# Creación de una relación entre variables\n",
        "# Fórmula base para \"ventas\"\n",
        "# ventas = coef_producto + coef_ubicacion + coef_mes + 0.5 * Gasto_Publicidad + ruido\n",
        "coef_producto = {'A': 2000, 'B': 1500, 'C': 1800}\n",
        "coef_ubicacion = {'Norte': 300, 'Sur': 500, 'Este': 400, 'Oeste': 600}\n",
        "coef_mes = {f'Mes_{i}': (i * 10) for i in range(1, 13)}\n",
        "\n",
        "# Generación de la variable objetivo (ventas)\n",
        "ventas = []\n",
        "for i in range(n_samples):\n",
        "    producto = data[\"Producto\"][i]\n",
        "    ubicacion = data[\"Ubicación\"][i]\n",
        "    mes = data[\"Mes\"][i]\n",
        "    gasto_publicidad = data[\"Gasto_Publicidad\"][i]\n",
        "\n",
        "    # Fórmula para calcular las ventas\n",
        "    venta = (\n",
        "        coef_producto[producto]\n",
        "        + coef_ubicacion[ubicacion]\n",
        "        + coef_mes[mes]\n",
        "        + 0.5 * gasto_publicidad\n",
        "        + np.random.normal(0, 200)  # Ruido\n",
        "    )\n",
        "    ventas.append(venta)\n",
        "\n",
        "data[\"Ventas\"] = ventas\n",
        "\n",
        "# Crear el DataFrame\n",
        "df = pd.DataFrame(data)\n",
        "\n",
        "# Mostrar los primeros datos\n",
        "print(df.head())\n",
        "\n",
        "# Guardar el dataset\n",
        "df.to_csv(\"dataset_sintetico.csv\", index=False)\n"
      ],
      "metadata": {
        "id": "XUchMP-F8eUd",
        "outputId": "75795b29-ec3a-470f-e6f2-d57c2956186a",
        "colab": {
          "base_uri": "https://localhost:8080/"
        }
      },
      "execution_count": 75,
      "outputs": [
        {
          "output_type": "stream",
          "name": "stdout",
          "text": [
            "  Producto Ubicación    Mes  Gasto_Publicidad       Ventas\n",
            "0        C       Sur  Mes_3       2937.353966  3826.545502\n",
            "1        A       Sur  Mes_3       3350.651989  4295.832973\n",
            "2        C      Este  Mes_5       1660.494584  3053.531324\n",
            "3        C       Sur  Mes_5       1127.102333  3130.724435\n",
            "4        A     Oeste  Mes_2       4257.186066  4328.409261\n"
          ]
        }
      ]
    },
    {
      "cell_type": "markdown",
      "source": [
        "Describa como generó los datos."
      ],
      "metadata": {
        "id": "QZ6peniZtXJF"
      }
    },
    {
      "cell_type": "markdown",
      "source": [
        "# Descripción de cómo se generaron los datos\n",
        "\n",
        "El dataset se generó utilizando una mezcla de variables categóricas y continuas para simular un entorno realista en el que las ventas de un producto dependen de varios factores:\n",
        "\n",
        "1. Cantidad de observaciones\n",
        "\n",
        "Se decidió generar 500 observaciones para tener un tamaño de muestra suficiente que permita realizar análisis de regresión.\n",
        "\n",
        "2. Variables predictoras\n",
        "\n",
        "a) Producto\n",
        "Tipo de variable: Categórica.\n",
        "Descripción: Representa la categoría del producto A, B, y C. Se seleccionaron aleatoriamente con igual probabilidad.\n",
        "b) Ubicación\n",
        "Tipo de variable: Categórica.\n",
        "Descripción: Representa la región geográfica donde se venden los productos Norte, Sur, Este y Oeste. Se seleccionaron aleatoriamente valores de las regiones 'Norte', 'Sur', 'Este' y 'Oeste' con igual probabilidad.\n",
        "c) Mes\n",
        "Tipo de variable: Categórica.\n",
        "Descripción: Representa el mes del año en el que se registraron las ventas,Mes_1 hasta 'Mes_12.\n",
        "Método de generación: Se seleccionaron aleatoriamente valores de los meses con igual probabilidad.\n",
        "d) Gasto_Publicidad\n",
        "Tipo de variable: Continua.\n",
        "Descripción: Representa el gasto en publicidad asociado al producto en un mes y ubicación específicos.\n",
        "Método de generación: Se generaron valores aleatorios continuos en el rango de 500 a 5000 usando una distribución uniforme, garantizando que todos los valores dentro del rango tengan igual probabilidad de ser seleccionados.\n",
        "\n",
        "3. Variable objetivo: Ventas\n",
        "Tipo de variable: Continua.\n",
        "Descripción: Representa las ventas totales que dependen de las variables predictoras.\n",
        "Método de generación:\n",
        "Se definió una fórmula que incluye:\n",
        "Un coeficiente específico para cada categoría de producto, ubicación y mes, simulando su influencia en las ventas.\n",
        "La contribución del gasto en publicidad, multiplicado por un factor de 0.5 para reflejar su impacto moderado.\n",
        "Un término de ruido aleatorio, generado a partir de una distribución normal con media 0 y desviación estándar 200, para simular la variabilidad natural en las ventas que no puede explicarse con las variables disponibles.\n",
        "\n",
        "4. Relación entre las variables\n",
        "Los coeficientes asignados a cada categoría (producto, ubicación, mes) se diseñaron para reflejar una influencia lógica en las ventas:\n",
        "Los productos de categoría 'A' tienen el coeficiente más alto (2000), seguidos por 'C' (1800) y luego 'B' (1500).\n",
        "Las ubicaciones tienen coeficientes diferentes, donde 'Oeste' es la más rentable.\n",
        "Los meses tienen un coeficiente que crece linealmente con el número del mes (ejemplo: 'Mes_1' tiene coeficiente 10, 'Mes_2' tiene 20, y así sucesivamente).\n",
        "\n",
        "5. Distribución del ruido\n",
        "Se añadió ruido a las ventas para simular realidad\n",
        "Media: 0\n",
        "Desviación estándar: 200\n"
      ],
      "metadata": {
        "id": "WA0rnXzLCpiV"
      }
    },
    {
      "cell_type": "markdown",
      "source": [
        "## Preprocesamiento\n",
        "\n",
        "Indique e implemente el pre-procesamiento necesario previo a entrenar los modelos"
      ],
      "metadata": {
        "id": "JBsmkKcXtaUH"
      }
    },
    {
      "cell_type": "markdown",
      "source": [
        "# Preprocesamiento para el dataset\n",
        "Antes de entrenar modelos de regresión, es esencial realizar un preprocesamiento adecuado para garantizar que los datos sean consistentes y estén listos para ser utilizados. Aquí se describen los pasos de preprocesamiento requeridos y cómo implementarlos.\n",
        "\n",
        "1. Carga del dataset\n",
        "\n",
        "Primero, cargamos el dataset generado para verificar su estructura y contenido.\n",
        "\n",
        "2. Revisión de datos faltantes\n",
        "\n",
        "Es importante comprobar si hay valores nulos en el dataset. Si los hay, se toman decisiones como imputar valores o eliminar filas.\n",
        "\n",
        "3. Codificación de variables categóricas\n",
        "\n",
        "Los modelos de machine learning no pueden trabajar directamente con variables categóricas. Por lo tanto:\n",
        "\n",
        "Convertimos las variables categóricas (Producto, Ubicación, Mes) en variables numéricas usando One-Hot Encoding.\n",
        "\n",
        "4. Escalado de variables continuas\n",
        "\n",
        "El rango de las variables continuas puede afectar a los modelos que usan medidas de distancia (como regresión lineal o redes neuronales). Escalamos la variable Gasto_Publicidad usando:\n",
        "Estandarización (z-score): Convierte los valores a una distribución con media 0 y desviación estándar 1.\n",
        "\n",
        "5. Separación del conjunto de datos\n",
        "\n",
        "Dividimos el dataset en:\n",
        "Conjunto de entrenamiento: Para entrenar el modelo.\n",
        "Conjunto de prueba: Para evaluar el desempeño del modelo."
      ],
      "metadata": {
        "id": "4ZmTu5DDCm-P"
      }
    },
    {
      "cell_type": "code",
      "source": [
        "# Cargar el dataset\n",
        "df = pd.read_csv(\"dataset_sintetico.csv\")\n",
        "\n",
        "# 1. Revisión de valores faltantes\n",
        "print(\"Valores faltantes:\\n\", df.isnull().sum())\n",
        "\n",
        "# 2. Variables predictoras y objetivo\n",
        "X = df.drop(\"Ventas\", axis=1)  # Variables predictoras\n",
        "y = df[\"Ventas\"]              # Variable objetivo\n",
        "\n",
        "# 3. Preprocesamiento de las variables\n",
        "# Identificar tipos de variables\n",
        "categorical_features = [\"Producto\", \"Ubicación\", \"Mes\"]\n",
        "numerical_features = [\"Gasto_Publicidad\"]\n",
        "\n",
        "# Crear transformaciones para cada tipo de variable\n",
        "# One-Hot Encoding para categóricas, Escalado para continuas\n",
        "preprocessor = ColumnTransformer(\n",
        "    transformers=[\n",
        "        (\"num\", StandardScaler(), numerical_features),\n",
        "        (\"cat\", OneHotEncoder(drop=\"first\"), categorical_features)\n",
        "    ]\n",
        ")\n",
        "\n",
        "# Crear un pipeline de preprocesamiento\n",
        "pipeline = Pipeline(steps=[(\"preprocessor\", preprocessor)])\n",
        "\n",
        "# Aplicar el preprocesamiento\n",
        "X_processed = pipeline.fit_transform(X)\n",
        "\n",
        "# 4. Separar los datos en entrenamiento y prueba\n",
        "X_train, X_test, y_train, y_test = train_test_split(X_processed, y, test_size=0.2, random_state=42)\n",
        "\n",
        "print(f\"Datos preprocesados. Tamaño de entrenamiento: {X_train.shape}, prueba: {X_test.shape}\")\n"
      ],
      "metadata": {
        "colab": {
          "base_uri": "https://localhost:8080/"
        },
        "id": "azPi5CpBNE1u",
        "outputId": "b9f3445c-df20-41b0-d30a-98052440fa1f"
      },
      "execution_count": 76,
      "outputs": [
        {
          "output_type": "stream",
          "name": "stdout",
          "text": [
            "Valores faltantes:\n",
            " Producto            0\n",
            "Ubicación           0\n",
            "Mes                 0\n",
            "Gasto_Publicidad    0\n",
            "Ventas              0\n",
            "dtype: int64\n",
            "Datos preprocesados. Tamaño de entrenamiento: (400, 17), prueba: (100, 17)\n"
          ]
        }
      ]
    },
    {
      "cell_type": "markdown",
      "source": [
        "# Descripción de los pasos implementados:\n",
        "\n",
        "Revisión de valores faltantes:\n",
        "\n",
        "Verificamos si hay valores nulos en el dataset. Si no hay valores nulos, no se requiere imputación.\n",
        "Codificación de variables categóricas:\n",
        "\n",
        "Se aplicó One-Hot Encoding a las columnas categóricas para convertirlas en variables binarias (0 o 1).\n",
        "Por ejemplo, la columna Producto con valores A, B, C se convierte en dos columnas binarias Producto_B y Producto_C (descartando Producto_A como referencia).\n",
        "Escalado de variables continuas:\n",
        "\n",
        "La columna Gasto_Publicidad se escaló utilizando la estandarización para que su rango no domine otras variables en los modelos de regresión.\n",
        "Separación de datos:\n",
        "\n",
        "Se dividió el dataset en 80% datos de entrenamiento y 20% datos de prueba para evaluar el modelo."
      ],
      "metadata": {
        "id": "1cxWAjZ8EXkx"
      }
    },
    {
      "cell_type": "markdown",
      "source": [
        "Resultado del preprocesamiento\n",
        "Variables categóricas están codificadas como variables binarias.\n",
        "Variables continuas están escaladas.\n",
        "Los datos están listos para ser utilizados en modelos de regresión."
      ],
      "metadata": {
        "id": "sn2bE4Ahtib7"
      }
    },
    {
      "cell_type": "markdown",
      "source": [
        "## Modelos"
      ],
      "metadata": {
        "id": "lWk1FojvthZ-"
      }
    },
    {
      "cell_type": "markdown",
      "source": [
        "Elija al menos dos modelos de regresión de los vistos en clases.\n",
        "Entrene dichos modelos.\n",
        "Detalle los hiperparámetros elegidos."
      ],
      "metadata": {
        "id": "fcWx12wStpQJ"
      }
    },
    {
      "cell_type": "code",
      "source": [
        "# Entrenar un modelo de regresión lineal\n",
        "model = LinearRegression()\n",
        "model.fit(X_train, y_train)\n",
        "\n",
        "# Realizar predicciones en el conjunto de prueba\n",
        "Lr_y_pred = model.predict(X_test)\n"
      ],
      "metadata": {
        "id": "z48cc8_XNWRF"
      },
      "execution_count": 77,
      "outputs": []
    },
    {
      "cell_type": "code",
      "source": [
        "# Entrenamiento de un modelo de regresión con Random Forest\n",
        "rf_model = RandomForestRegressor(n_estimators=100, random_state=42)\n",
        "rf_model.fit(X_train, y_train)\n",
        "\n",
        "# Predicciones\n",
        "rf_y_pred = rf_model.predict(X_test)\n",
        "\n"
      ],
      "metadata": {
        "id": "eMwQepGsN3h6"
      },
      "execution_count": 78,
      "outputs": []
    },
    {
      "cell_type": "code",
      "source": [
        "# Probamos con ejemplos los predictores\n",
        "num_samples = 5\n",
        "for i in range(num_samples):\n",
        "  print(f\"- Linear Regression: Predicted: {Lr_y_pred[i]}, Actual: {y_test.iloc[i]}\")"
      ],
      "metadata": {
        "colab": {
          "base_uri": "https://localhost:8080/"
        },
        "outputId": "ca61a36f-324e-44a9-db9b-33631b6f5807",
        "id": "TokIhGeyZv3C"
      },
      "execution_count": 79,
      "outputs": [
        {
          "output_type": "stream",
          "name": "stdout",
          "text": [
            "- Linear Regression: Predicted: 2661.707422442134, Actual: 2859.4297186161307\n",
            "- Linear Regression: Predicted: 2587.9813693626784, Actual: 2574.965995827068\n",
            "- Linear Regression: Predicted: 4424.084911078875, Actual: 4572.168457187324\n",
            "- Linear Regression: Predicted: 3314.5476443316443, Actual: 3773.127935441267\n",
            "- Linear Regression: Predicted: 3879.3533876233723, Actual: 3874.818864408113\n"
          ]
        }
      ]
    },
    {
      "cell_type": "code",
      "source": [
        "num_samples = 5\n",
        "for i in range(num_samples):\n",
        "   print(f\"- Random Forest: Predicted: {rf_y_pred[i]}, Actual: {y_test.iloc[i]}\")"
      ],
      "metadata": {
        "colab": {
          "base_uri": "https://localhost:8080/"
        },
        "outputId": "5d400954-67d3-459b-dee3-001cdec3a575",
        "id": "Y2i-3llYZ0k8"
      },
      "execution_count": 80,
      "outputs": [
        {
          "output_type": "stream",
          "name": "stdout",
          "text": [
            "- Random Forest: Predicted: 2899.6627513583353, Actual: 2859.4297186161307\n",
            "- Random Forest: Predicted: 2809.9525433219264, Actual: 2574.965995827068\n",
            "- Random Forest: Predicted: 4605.471881025523, Actual: 4572.168457187324\n",
            "- Random Forest: Predicted: 3416.610566508443, Actual: 3773.127935441267\n",
            "- Random Forest: Predicted: 3988.3271203829154, Actual: 3874.818864408113\n"
          ]
        }
      ]
    },
    {
      "cell_type": "markdown",
      "source": [
        "##A simple vista vemos que el modelo Linear Regressor da mejores resultadoss."
      ],
      "metadata": {
        "id": "3stNuIlja3wD"
      }
    },
    {
      "cell_type": "markdown",
      "source": [
        "## Evaluación"
      ],
      "metadata": {
        "id": "Sxmj7GNVt5Q3"
      }
    },
    {
      "cell_type": "markdown",
      "source": [
        "Evalue el desempeño de los modelos indicando las métricas, metodología y conjunto de datos utilizados."
      ],
      "metadata": {
        "id": "rrvjbghzt8CN"
      }
    },
    {
      "cell_type": "code",
      "source": [
        "# Evaluar el modelo\n",
        "# Evaluar el modelo\n",
        "mse = mean_squared_error(y_test, Lr_y_pred)\n",
        "r2 = r2_score(y_test, Lr_y_pred)\n",
        "\n",
        "# # Imprimimos Resultados del modelo\n",
        "print(\"LinearRegression MSE\", mse)\n",
        "print(\"LinearRegression R2\", r2)"
      ],
      "metadata": {
        "colab": {
          "base_uri": "https://localhost:8080/"
        },
        "id": "aaXffcGTyf1T",
        "outputId": "4d0701f9-ab34-4889-c8ae-f48862b750b2"
      },
      "execution_count": 81,
      "outputs": [
        {
          "output_type": "stream",
          "name": "stdout",
          "text": [
            "LinearRegression MSE 41851.81042737032\n",
            "LinearRegression R2 0.9306293568731225\n"
          ]
        }
      ]
    },
    {
      "cell_type": "code",
      "source": [
        "\n",
        "# Evaluación\n",
        "rf_mse = mean_squared_error(y_test, rf_y_pred)\n",
        "rf_r2 = r2_score(y_test, rf_y_pred)\n",
        "# Imprimimos Resultados del modelo\n",
        "print(\"Random Forest MSE\", rf_mse)\n",
        "print(\"Random Forest R2\", rf_r2)"
      ],
      "metadata": {
        "colab": {
          "base_uri": "https://localhost:8080/"
        },
        "id": "00gCNy06yclb",
        "outputId": "47e71101-206d-4e9c-fd68-ed98b4c002d6"
      },
      "execution_count": 82,
      "outputs": [
        {
          "output_type": "stream",
          "name": "stdout",
          "text": [
            "Random Forest MSE 53863.625564207396\n",
            "Random Forest R2 0.9107194095457637\n"
          ]
        }
      ]
    },
    {
      "cell_type": "markdown",
      "source": [
        "#Evaluación del desempeño de los modelos de regresión\n",
        "\n",
        "Se entrenaron dos modelos de regresión para predecir la variable objetivo \"Ventas\" usando un dataset sintético que incluye variables categóricas (Producto, Ubicación, Mes) y una variable continua (Gasto_Publicidad). La evaluación de los modelos se realizó usando métricas estándar de regresión.\n",
        "\n",
        "#Metodología utilizada\n",
        "División de datos:\n",
        "\n",
        "El dataset fue dividido en un conjunto de entrenamiento (80%) y un conjunto de prueba (20%).\n",
        "Los datos de prueba nunca fueron usados durante el entrenamiento de los modelos, lo que garantiza una evaluación objetiva de su desempeño.\n",
        "\n",
        "# Modelos entrenados:\n",
        "\n",
        "## Regresión Lineal:\n",
        "Un modelo lineal que asume relaciones lineales entre las variables predictoras y la variable objetivo.\n",
        "## Random Forest Regressor:\n",
        "Un modelo no lineal basado en árboles de decisión, que combina múltiples árboles para capturar relaciones complejas.\n",
        "\n",
        "#Métricas de evaluación:\n",
        "\n",
        "##Error Cuadrático Medio (MSE):\n",
        "Mide el promedio del cuadrado de las diferencias entre las predicciones y los valores reales. Un MSE menor indica un modelo más preciso.\n",
        "##Coeficiente de Determinación (R²):\n",
        "Indica qué porcentaje de la variabilidad de la variable objetivo es explicado por el modelo. Un valor cercano a 1 significa un buen ajuste.\n",
        "#Resultados del desempeño\n",
        "1. Regresión Lineal\n",
        "MSE: 41,851.81\n",
        "R²: 0.93\n",
        "El modelo lineal explicó el 93% de la variabilidad en las ventas, con un error cuadrático medio bajo, lo que indica un buen desempeño.\n",
        "2. Random Forest Regressor\n",
        "MSE: 53,641.22\n",
        "R²: 0.91\n",
        "Aunque el modelo explicó el 91% de la variabilidad de las ventas, su MSE fue mayor que el de la regresión lineal, lo que indica predicciones ligeramente menos precisas.\n",
        "Conjunto de datos utilizado\n",
        "Entrenamiento: 80% del dataset (400 observaciones), utilizado para ajustar los parámetros de los modelos.\n",
        "Prueba: 20% del dataset (100 observaciones), utilizado exclusivamente para evaluar el desempeño de los modelos.\n",
        "Conclusiones\n",
        "\n",
        "Regresión Lineal:\n",
        "\n",
        "Este modelo tuvo un mejor desempeño global, con un MSE más bajo y un R² ligeramente superior.\n",
        "Esto sugiere que las relaciones en los datos son predominantemente lineales.\n",
        "\n",
        "Random Forest:\n",
        "\n",
        "Aunque ofrece flexibilidad para capturar relaciones no lineales y complejas, su desempeño fue ligeramente inferior en este caso.\n",
        "Esto indica que los datos no tienen interacciones no lineales significativas.\n",
        "Recomendación\n",
        "El modelo de Regresión Lineal es el más adecuado para este dataset debido a su mejor desempeño en las métricas evaluadas. Sin embargo, si se agregan más características o interacciones complejas entre variables en futuros análisis, podría ser útil volver a probar modelos no lineales como Random Forest."
      ],
      "metadata": {
        "id": "dYq4nMYLHmbk"
      }
    },
    {
      "cell_type": "markdown",
      "source": [
        "\n",
        "## Ejercicio de hiper parámetro tunning.\n",
        "\n",
        "Modificar uno de los modelos para probarlo con diferentes valores para uno de sus hiperparámetros, indicando para cuáles se evidencia subajuste y en cuáles sobreajuste.\n",
        "\n",
        "Grafique la métrica de desempeño vs los valores del hiperarámetro para observar ambas curvas de error durante el entrenamiento y durante el testeo.\n",
        "\n",
        "\n"
      ],
      "metadata": {
        "id": "ec3tJxLJtVFL"
      }
    },
    {
      "cell_type": "code",
      "source": [
        "# Probar el modelo con regularización L2 (Ridge)\n",
        "# Hiperparámetro a modificar: Alpha (controla la fuerza de la regularización)\n",
        "alphas = np.logspace(-3, 3, 10)  # Valores entre 0.001 y 1000\n",
        "\n",
        "# Almacenar métricas\n",
        "train_errors = []\n",
        "test_errors = []\n",
        "\n",
        "for alpha in alphas:\n",
        "    ridge_model = Ridge(alpha=alpha)\n",
        "    ridge_model.fit(X_train, y_train)\n",
        "\n",
        "    # Calcular errores\n",
        "    y_train_pred = ridge_model.predict(X_train)\n",
        "    y_test_pred = ridge_model.predict(X_test)\n",
        "\n",
        "    train_errors.append(mean_squared_error(y_train, y_train_pred))\n",
        "    test_errors.append(mean_squared_error(y_test, y_test_pred))\n",
        "\n",
        "# Graficar curvas de error\n",
        "plt.figure(figsize=(10, 6))\n",
        "plt.plot(alphas, train_errors, label='Error de Entrenamiento', marker='o')\n",
        "plt.plot(alphas, test_errors, label='Error de Prueba', marker='s')\n",
        "plt.xscale('log')\n",
        "plt.xlabel('Valor de Alpha (Regularización)')\n",
        "plt.ylabel('Error Cuadrático Medio (MSE)')\n",
        "plt.title('Curvas de Error vs Regularización (Alpha)')\n",
        "plt.legend()\n",
        "plt.grid(True)\n",
        "plt.show()\n",
        "\n"
      ],
      "metadata": {
        "colab": {
          "base_uri": "https://localhost:8080/",
          "height": 570
        },
        "id": "876HYGV1Jb_R",
        "outputId": "85ecdac3-bfd4-4b10-f1b1-cae93b9c5b30"
      },
      "execution_count": 83,
      "outputs": [
        {
          "output_type": "display_data",
          "data": {
            "text/plain": [
              "<Figure size 1000x600 with 1 Axes>"
            ],
            "image/png": "[encoded data removed]"
          },
          "metadata": {}
        }
      ]
    },
    {
      "cell_type": "markdown",
      "source": [
        "Análisis de la regularización con Ridge:\n",
        "Descripción\n",
        "Se entrenó un modelo de Ridge Regression variando el hiperparámetro alpha, que controla la intensidad de la regularización:\n",
        "\n",
        "alpha bajo (cercano a 0): El modelo actúa como una regresión lineal estándar, sin regularización.\n",
        "alpha alto: Aumenta la penalización de los coeficientes grandes, reduciendo la complejidad del modelo.\n",
        "Se evaluaron dos métricas:\n",
        "\n",
        "Error en el conjunto de entrenamiento: Muestra qué tan bien el modelo se ajusta a los datos de entrenamiento.\n",
        "Error en el conjunto de prueba: Evalúa qué tan bien generaliza el modelo a datos no vistos.\n",
        "\n",
        "Interpretación de la gráfica\n",
        "Eje X: Representa el valor del hiperparámetro alpha (en escala logarítmica).\n",
        "Eje Y: Representa el Error Cuadrático Medio.\n",
        "\n",
        "Subajuste:\n",
        "\n",
        "Para valores altos de alpha (por ejemplo, alpha > 100), ambos errores (entrenamiento y prueba) son elevados.\n",
        "\n",
        "Sobreajuste:\n",
        "\n",
        "Para valores extremadamente bajos de alpha (cercanos a 10), el error en el entrenamiento es muy bajo, pero el error en el conjunto de prueba aumenta.\n",
        "Esto indica que el modelo está sobreajustando los datos de entrenamiento y pierde capacidad de generalización.\n",
        "Punto óptimo:\n",
        "\n",
        "En valores intermedios de alpha como de 0.1 y 10, los errores de entrenamiento y prueba son más bajos y cercanos entre sí, indicando un buen balance entre ajuste y generalización.\n",
        "Conclusión\n",
        "El valor óptimo de alpha debe estar en el rango intermedio (0.1-10), donde el modelo logra generalizar bien y evita tanto el subajuste como el sobreajuste.\n",
        "\n",
        "\n"
      ],
      "metadata": {
        "id": "KGKR9aVfJvEC"
      }
    }
  ]
}