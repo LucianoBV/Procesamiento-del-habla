{
  "nbformat": 4,
  "nbformat_minor": 0,
  "metadata": {
    "colab": {
      "provenance": [],
      "authorship_tag": "ABX9TyPmZLxw/CaV/j4AKJoge23Q",
      "include_colab_link": true
    },
    "kernelspec": {
      "name": "python3",
      "display_name": "Python 3"
    },
    "language_info": {
      "name": "python"
    }
  },
  "cells": [
    {
      "cell_type": "markdown",
      "metadata": {
        "id": "view-in-github",
        "colab_type": "text"
      },
      "source": [
        "<a href=\"https://colab.research.google.com/github/LucianoBV/Procesamiento-del-habla/blob/main/De_Nuevo_Clasificac%C3%ADon.ipynb\" target=\"_parent\"><img src=\"https://colab.research.google.com/assets/colab-badge.svg\" alt=\"Open In Colab\"/></a>"
      ]
    },
    {
      "cell_type": "code",
      "execution_count": 115,
      "metadata": {
        "id": "C0BbRPx6A3FO"
      },
      "outputs": [],
      "source": [
        "import pandas as pd\n",
        "from sklearn.model_selection import train_test_split\n",
        "from sklearn.preprocessing import LabelEncoder, StandardScaler\n",
        "from sklearn.linear_model import LogisticRegression\n",
        "from sklearn.tree import DecisionTreeClassifier\n",
        "from sklearn.metrics import accuracy_score\n",
        "from sklearn.model_selection import GridSearchCV\n",
        "import matplotlib.pyplot as plt"
      ]
    },
    {
      "cell_type": "markdown",
      "source": [
        "# Presentacion del data set:\n",
        "\n",
        "El conjunto de datos  pertenece a sintomas que estan relacionados con la enfermedad de la diabetes. Contiene los siguientes tipos de variables:\n",
        "\n",
        "Variables numéricas: 1 y variables categoricas: 16\n",
        "\n"
      ],
      "metadata": {
        "id": "v-bv0i5pIRcp"
      }
    },
    {
      "cell_type": "code",
      "source": [
        "# Importamos el dataset\n",
        "data=pd.read_csv('/content/diabetes_data_upload.csv')"
      ],
      "metadata": {
        "id": "m88zH5s7Biv8"
      },
      "execution_count": 116,
      "outputs": []
    },
    {
      "cell_type": "code",
      "source": [
        "# Mostramos las primeras filas del data set\n",
        "data.head()\n"
      ],
      "metadata": {
        "colab": {
          "base_uri": "https://localhost:8080/",
          "height": 206
        },
        "id": "ss8l0oQACf5j",
        "outputId": "f0128928-b29b-4a24-afc6-29177488abde"
      },
      "execution_count": 117,
      "outputs": [
        {
          "output_type": "execute_result",
          "data": {
            "text/plain": [
              "   Age Gender Polyuria Polydipsia sudden weight loss weakness Polyphagia  \\\n",
              "0   40   Male       No        Yes                 No      Yes         No   \n",
              "1   58   Male       No         No                 No      Yes         No   \n",
              "2   41   Male      Yes         No                 No      Yes        Yes   \n",
              "3   45   Male       No         No                Yes      Yes        Yes   \n",
              "4   60   Male      Yes        Yes                Yes      Yes        Yes   \n",
              "\n",
              "  Genital thrush visual blurring Itching Irritability delayed healing  \\\n",
              "0             No              No     Yes           No             Yes   \n",
              "1             No             Yes      No           No              No   \n",
              "2             No              No     Yes           No             Yes   \n",
              "3            Yes              No     Yes           No             Yes   \n",
              "4             No             Yes     Yes          Yes             Yes   \n",
              "\n",
              "  partial paresis muscle stiffness Alopecia Obesity     class  \n",
              "0              No              Yes      Yes     Yes  Positive  \n",
              "1             Yes               No      Yes      No  Positive  \n",
              "2              No              Yes      Yes      No  Positive  \n",
              "3              No               No       No      No  Positive  \n",
              "4             Yes              Yes      Yes     Yes  Positive  "
            ],
            "text/html": [
              "\n",
              "  <div id=\"df-8d5ee571-0848-478e-a06c-fe64c601630a\" class=\"colab-df-container\">\n",
              "    <div>\n",
              "<style scoped>\n",
              "    .dataframe tbody tr th:only-of-type {\n",
              "        vertical-align: middle;\n",
              "    }\n",
              "\n",
              "    .dataframe tbody tr th {\n",
              "        vertical-align: top;\n",
              "    }\n",
              "\n",
              "    .dataframe thead th {\n",
              "        text-align: right;\n",
              "    }\n",
              "</style>\n",
              "<table border=\"1\" class=\"dataframe\">\n",
              "  <thead>\n",
              "    <tr style=\"text-align: right;\">\n",
              "      <th></th>\n",
              "      <th>Age</th>\n",
              "      <th>Gender</th>\n",
              "      <th>Polyuria</th>\n",
              "      <th>Polydipsia</th>\n",
              "      <th>sudden weight loss</th>\n",
              "      <th>weakness</th>\n",
              "      <th>Polyphagia</th>\n",
              "      <th>Genital thrush</th>\n",
              "      <th>visual blurring</th>\n",
              "      <th>Itching</th>\n",
              "      <th>Irritability</th>\n",
              "      <th>delayed healing</th>\n",
              "      <th>partial paresis</th>\n",
              "      <th>muscle stiffness</th>\n",
              "      <th>Alopecia</th>\n",
              "      <th>Obesity</th>\n",
              "      <th>class</th>\n",
              "    </tr>\n",
              "  </thead>\n",
              "  <tbody>\n",
              "    <tr>\n",
              "      <th>0</th>\n",
              "      <td>40</td>\n",
              "      <td>Male</td>\n",
              "      <td>No</td>\n",
              "      <td>Yes</td>\n",
              "      <td>No</td>\n",
              "      <td>Yes</td>\n",
              "      <td>No</td>\n",
              "      <td>No</td>\n",
              "      <td>No</td>\n",
              "      <td>Yes</td>\n",
              "      <td>No</td>\n",
              "      <td>Yes</td>\n",
              "      <td>No</td>\n",
              "      <td>Yes</td>\n",
              "      <td>Yes</td>\n",
              "      <td>Yes</td>\n",
              "      <td>Positive</td>\n",
              "    </tr>\n",
              "    <tr>\n",
              "      <th>1</th>\n",
              "      <td>58</td>\n",
              "      <td>Male</td>\n",
              "      <td>No</td>\n",
              "      <td>No</td>\n",
              "      <td>No</td>\n",
              "      <td>Yes</td>\n",
              "      <td>No</td>\n",
              "      <td>No</td>\n",
              "      <td>Yes</td>\n",
              "      <td>No</td>\n",
              "      <td>No</td>\n",
              "      <td>No</td>\n",
              "      <td>Yes</td>\n",
              "      <td>No</td>\n",
              "      <td>Yes</td>\n",
              "      <td>No</td>\n",
              "      <td>Positive</td>\n",
              "    </tr>\n",
              "    <tr>\n",
              "      <th>2</th>\n",
              "      <td>41</td>\n",
              "      <td>Male</td>\n",
              "      <td>Yes</td>\n",
              "      <td>No</td>\n",
              "      <td>No</td>\n",
              "      <td>Yes</td>\n",
              "      <td>Yes</td>\n",
              "      <td>No</td>\n",
              "      <td>No</td>\n",
              "      <td>Yes</td>\n",
              "      <td>No</td>\n",
              "      <td>Yes</td>\n",
              "      <td>No</td>\n",
              "      <td>Yes</td>\n",
              "      <td>Yes</td>\n",
              "      <td>No</td>\n",
              "      <td>Positive</td>\n",
              "    </tr>\n",
              "    <tr>\n",
              "      <th>3</th>\n",
              "      <td>45</td>\n",
              "      <td>Male</td>\n",
              "      <td>No</td>\n",
              "      <td>No</td>\n",
              "      <td>Yes</td>\n",
              "      <td>Yes</td>\n",
              "      <td>Yes</td>\n",
              "      <td>Yes</td>\n",
              "      <td>No</td>\n",
              "      <td>Yes</td>\n",
              "      <td>No</td>\n",
              "      <td>Yes</td>\n",
              "      <td>No</td>\n",
              "      <td>No</td>\n",
              "      <td>No</td>\n",
              "      <td>No</td>\n",
              "      <td>Positive</td>\n",
              "    </tr>\n",
              "    <tr>\n",
              "      <th>4</th>\n",
              "      <td>60</td>\n",
              "      <td>Male</td>\n",
              "      <td>Yes</td>\n",
              "      <td>Yes</td>\n",
              "      <td>Yes</td>\n",
              "      <td>Yes</td>\n",
              "      <td>Yes</td>\n",
              "      <td>No</td>\n",
              "      <td>Yes</td>\n",
              "      <td>Yes</td>\n",
              "      <td>Yes</td>\n",
              "      <td>Yes</td>\n",
              "      <td>Yes</td>\n",
              "      <td>Yes</td>\n",
              "      <td>Yes</td>\n",
              "      <td>Yes</td>\n",
              "      <td>Positive</td>\n",
              "    </tr>\n",
              "  </tbody>\n",
              "</table>\n",
              "</div>\n",
              "    <div class=\"colab-df-buttons\">\n",
              "\n",
              "  <div class=\"colab-df-container\">\n",
              "    <button class=\"colab-df-convert\" onclick=\"convertToInteractive('df-8d5ee571-0848-478e-a06c-fe64c601630a')\"\n",
              "            title=\"Convert this dataframe to an interactive table.\"\n",
              "            style=\"display:none;\">\n",
              "\n",
              "  <svg xmlns=\"http://www.w3.org/2000/svg\" height=\"24px\" viewBox=\"0 -960 960 960\">\n",
              "    <path d=\"M120-120v-720h720v720H120Zm60-500h600v-160H180v160Zm220 220h160v-160H400v160Zm0 220h160v-160H400v160ZM180-400h160v-160H180v160Zm440 0h160v-160H620v160ZM180-180h160v-160H180v160Zm440 0h160v-160H620v160Z\"/>\n",
              "  </svg>\n",
              "    </button>\n",
              "\n",
              "  <style>\n",
              "    .colab-df-container {\n",
              "      display:flex;\n",
              "      gap: 12px;\n",
              "    }\n",
              "\n",
              "    .colab-df-convert {\n",
              "      background-color: #E8F0FE;\n",
              "      border: none;\n",
              "      border-radius: 50%;\n",
              "      cursor: pointer;\n",
              "      display: none;\n",
              "      fill: #1967D2;\n",
              "      height: 32px;\n",
              "      padding: 0 0 0 0;\n",
              "      width: 32px;\n",
              "    }\n",
              "\n",
              "    .colab-df-convert:hover {\n",
              "      background-color: #E2EBFA;\n",
              "      box-shadow: 0px 1px 2px rgba(60, 64, 67, 0.3), 0px 1px 3px 1px rgba(60, 64, 67, 0.15);\n",
              "      fill: #174EA6;\n",
              "    }\n",
              "\n",
              "    .colab-df-buttons div {\n",
              "      margin-bottom: 4px;\n",
              "    }\n",
              "\n",
              "    [theme=dark] .colab-df-convert {\n",
              "      background-color: #3B4455;\n",
              "      fill: #D2E3FC;\n",
              "    }\n",
              "\n",
              "    [theme=dark] .colab-df-convert:hover {\n",
              "      background-color: #434B5C;\n",
              "      box-shadow: 0px 1px 3px 1px rgba(0, 0, 0, 0.15);\n",
              "      filter: drop-shadow(0px 1px 2px rgba(0, 0, 0, 0.3));\n",
              "      fill: #FFFFFF;\n",
              "    }\n",
              "  </style>\n",
              "\n",
              "    <script>\n",
              "      const buttonEl =\n",
              "        document.querySelector('#df-8d5ee571-0848-478e-a06c-fe64c601630a button.colab-df-convert');\n",
              "      buttonEl.style.display =\n",
              "        google.colab.kernel.accessAllowed ? 'block' : 'none';\n",
              "\n",
              "      async function convertToInteractive(key) {\n",
              "        const element = document.querySelector('#df-8d5ee571-0848-478e-a06c-fe64c601630a');\n",
              "        const dataTable =\n",
              "          await google.colab.kernel.invokeFunction('convertToInteractive',\n",
              "                                                    [key], {});\n",
              "        if (!dataTable) return;\n",
              "\n",
              "        const docLinkHtml = 'Like what you see? Visit the ' +\n",
              "          '<a target=\"_blank\" href=https://colab.research.google.com/notebooks/data_table.ipynb>data table notebook</a>'\n",
              "          + ' to learn more about interactive tables.';\n",
              "        element.innerHTML = '';\n",
              "        dataTable['output_type'] = 'display_data';\n",
              "        await google.colab.output.renderOutput(dataTable, element);\n",
              "        const docLink = document.createElement('div');\n",
              "        docLink.innerHTML = docLinkHtml;\n",
              "        element.appendChild(docLink);\n",
              "      }\n",
              "    </script>\n",
              "  </div>\n",
              "\n",
              "\n",
              "<div id=\"df-837c2113-0cf0-4e9e-97d6-ea40408f5711\">\n",
              "  <button class=\"colab-df-quickchart\" onclick=\"quickchart('df-837c2113-0cf0-4e9e-97d6-ea40408f5711')\"\n",
              "            title=\"Suggest charts\"\n",
              "            style=\"display:none;\">\n",
              "\n",
              "<svg xmlns=\"http://www.w3.org/2000/svg\" height=\"24px\"viewBox=\"0 0 24 24\"\n",
              "     width=\"24px\">\n",
              "    <g>\n",
              "        <path d=\"M19 3H5c-1.1 0-2 .9-2 2v14c0 1.1.9 2 2 2h14c1.1 0 2-.9 2-2V5c0-1.1-.9-2-2-2zM9 17H7v-7h2v7zm4 0h-2V7h2v10zm4 0h-2v-4h2v4z\"/>\n",
              "    </g>\n",
              "</svg>\n",
              "  </button>\n",
              "\n",
              "<style>\n",
              "  .colab-df-quickchart {\n",
              "      --bg-color: #E8F0FE;\n",
              "      --fill-color: #1967D2;\n",
              "      --hover-bg-color: #E2EBFA;\n",
              "      --hover-fill-color: #174EA6;\n",
              "      --disabled-fill-color: #AAA;\n",
              "      --disabled-bg-color: #DDD;\n",
              "  }\n",
              "\n",
              "  [theme=dark] .colab-df-quickchart {\n",
              "      --bg-color: #3B4455;\n",
              "      --fill-color: #D2E3FC;\n",
              "      --hover-bg-color: #434B5C;\n",
              "      --hover-fill-color: #FFFFFF;\n",
              "      --disabled-bg-color: #3B4455;\n",
              "      --disabled-fill-color: #666;\n",
              "  }\n",
              "\n",
              "  .colab-df-quickchart {\n",
              "    background-color: var(--bg-color);\n",
              "    border: none;\n",
              "    border-radius: 50%;\n",
              "    cursor: pointer;\n",
              "    display: none;\n",
              "    fill: var(--fill-color);\n",
              "    height: 32px;\n",
              "    padding: 0;\n",
              "    width: 32px;\n",
              "  }\n",
              "\n",
              "  .colab-df-quickchart:hover {\n",
              "    background-color: var(--hover-bg-color);\n",
              "    box-shadow: 0 1px 2px rgba(60, 64, 67, 0.3), 0 1px 3px 1px rgba(60, 64, 67, 0.15);\n",
              "    fill: var(--button-hover-fill-color);\n",
              "  }\n",
              "\n",
              "  .colab-df-quickchart-complete:disabled,\n",
              "  .colab-df-quickchart-complete:disabled:hover {\n",
              "    background-color: var(--disabled-bg-color);\n",
              "    fill: var(--disabled-fill-color);\n",
              "    box-shadow: none;\n",
              "  }\n",
              "\n",
              "  .colab-df-spinner {\n",
              "    border: 2px solid var(--fill-color);\n",
              "    border-color: transparent;\n",
              "    border-bottom-color: var(--fill-color);\n",
              "    animation:\n",
              "      spin 1s steps(1) infinite;\n",
              "  }\n",
              "\n",
              "  @keyframes spin {\n",
              "    0% {\n",
              "      border-color: transparent;\n",
              "      border-bottom-color: var(--fill-color);\n",
              "      border-left-color: var(--fill-color);\n",
              "    }\n",
              "    20% {\n",
              "      border-color: transparent;\n",
              "      border-left-color: var(--fill-color);\n",
              "      border-top-color: var(--fill-color);\n",
              "    }\n",
              "    30% {\n",
              "      border-color: transparent;\n",
              "      border-left-color: var(--fill-color);\n",
              "      border-top-color: var(--fill-color);\n",
              "      border-right-color: var(--fill-color);\n",
              "    }\n",
              "    40% {\n",
              "      border-color: transparent;\n",
              "      border-right-color: var(--fill-color);\n",
              "      border-top-color: var(--fill-color);\n",
              "    }\n",
              "    60% {\n",
              "      border-color: transparent;\n",
              "      border-right-color: var(--fill-color);\n",
              "    }\n",
              "    80% {\n",
              "      border-color: transparent;\n",
              "      border-right-color: var(--fill-color);\n",
              "      border-bottom-color: var(--fill-color);\n",
              "    }\n",
              "    90% {\n",
              "      border-color: transparent;\n",
              "      border-bottom-color: var(--fill-color);\n",
              "    }\n",
              "  }\n",
              "</style>\n",
              "\n",
              "  <script>\n",
              "    async function quickchart(key) {\n",
              "      const quickchartButtonEl =\n",
              "        document.querySelector('#' + key + ' button');\n",
              "      quickchartButtonEl.disabled = true;  // To prevent multiple clicks.\n",
              "      quickchartButtonEl.classList.add('colab-df-spinner');\n",
              "      try {\n",
              "        const charts = await google.colab.kernel.invokeFunction(\n",
              "            'suggestCharts', [key], {});\n",
              "      } catch (error) {\n",
              "        console.error('Error during call to suggestCharts:', error);\n",
              "      }\n",
              "      quickchartButtonEl.classList.remove('colab-df-spinner');\n",
              "      quickchartButtonEl.classList.add('colab-df-quickchart-complete');\n",
              "    }\n",
              "    (() => {\n",
              "      let quickchartButtonEl =\n",
              "        document.querySelector('#df-837c2113-0cf0-4e9e-97d6-ea40408f5711 button');\n",
              "      quickchartButtonEl.style.display =\n",
              "        google.colab.kernel.accessAllowed ? 'block' : 'none';\n",
              "    })();\n",
              "  </script>\n",
              "</div>\n",
              "\n",
              "    </div>\n",
              "  </div>\n"
            ],
            "application/vnd.google.colaboratory.intrinsic+json": {
              "type": "dataframe",
              "variable_name": "data",
              "summary": "{\n  \"name\": \"data\",\n  \"rows\": 520,\n  \"fields\": [\n    {\n      \"column\": \"Age\",\n      \"properties\": {\n        \"dtype\": \"number\",\n        \"std\": 12,\n        \"min\": 16,\n        \"max\": 90,\n        \"num_unique_values\": 51,\n        \"samples\": [\n          79,\n          90,\n          33\n        ],\n        \"semantic_type\": \"\",\n        \"description\": \"\"\n      }\n    },\n    {\n      \"column\": \"Gender\",\n      \"properties\": {\n        \"dtype\": \"category\",\n        \"num_unique_values\": 2,\n        \"samples\": [\n          \"Female\",\n          \"Male\"\n        ],\n        \"semantic_type\": \"\",\n        \"description\": \"\"\n      }\n    },\n    {\n      \"column\": \"Polyuria\",\n      \"properties\": {\n        \"dtype\": \"category\",\n        \"num_unique_values\": 2,\n        \"samples\": [\n          \"Yes\",\n          \"No\"\n        ],\n        \"semantic_type\": \"\",\n        \"description\": \"\"\n      }\n    },\n    {\n      \"column\": \"Polydipsia\",\n      \"properties\": {\n        \"dtype\": \"category\",\n        \"num_unique_values\": 2,\n        \"samples\": [\n          \"No\",\n          \"Yes\"\n        ],\n        \"semantic_type\": \"\",\n        \"description\": \"\"\n      }\n    },\n    {\n      \"column\": \"sudden weight loss\",\n      \"properties\": {\n        \"dtype\": \"category\",\n        \"num_unique_values\": 2,\n        \"samples\": [\n          \"Yes\",\n          \"No\"\n        ],\n        \"semantic_type\": \"\",\n        \"description\": \"\"\n      }\n    },\n    {\n      \"column\": \"weakness\",\n      \"properties\": {\n        \"dtype\": \"category\",\n        \"num_unique_values\": 2,\n        \"samples\": [\n          \"No\",\n          \"Yes\"\n        ],\n        \"semantic_type\": \"\",\n        \"description\": \"\"\n      }\n    },\n    {\n      \"column\": \"Polyphagia\",\n      \"properties\": {\n        \"dtype\": \"category\",\n        \"num_unique_values\": 2,\n        \"samples\": [\n          \"Yes\",\n          \"No\"\n        ],\n        \"semantic_type\": \"\",\n        \"description\": \"\"\n      }\n    },\n    {\n      \"column\": \"Genital thrush\",\n      \"properties\": {\n        \"dtype\": \"category\",\n        \"num_unique_values\": 2,\n        \"samples\": [\n          \"Yes\",\n          \"No\"\n        ],\n        \"semantic_type\": \"\",\n        \"description\": \"\"\n      }\n    },\n    {\n      \"column\": \"visual blurring\",\n      \"properties\": {\n        \"dtype\": \"category\",\n        \"num_unique_values\": 2,\n        \"samples\": [\n          \"Yes\",\n          \"No\"\n        ],\n        \"semantic_type\": \"\",\n        \"description\": \"\"\n      }\n    },\n    {\n      \"column\": \"Itching\",\n      \"properties\": {\n        \"dtype\": \"category\",\n        \"num_unique_values\": 2,\n        \"samples\": [\n          \"No\",\n          \"Yes\"\n        ],\n        \"semantic_type\": \"\",\n        \"description\": \"\"\n      }\n    },\n    {\n      \"column\": \"Irritability\",\n      \"properties\": {\n        \"dtype\": \"category\",\n        \"num_unique_values\": 2,\n        \"samples\": [\n          \"Yes\",\n          \"No\"\n        ],\n        \"semantic_type\": \"\",\n        \"description\": \"\"\n      }\n    },\n    {\n      \"column\": \"delayed healing\",\n      \"properties\": {\n        \"dtype\": \"category\",\n        \"num_unique_values\": 2,\n        \"samples\": [\n          \"No\",\n          \"Yes\"\n        ],\n        \"semantic_type\": \"\",\n        \"description\": \"\"\n      }\n    },\n    {\n      \"column\": \"partial paresis\",\n      \"properties\": {\n        \"dtype\": \"category\",\n        \"num_unique_values\": 2,\n        \"samples\": [\n          \"Yes\",\n          \"No\"\n        ],\n        \"semantic_type\": \"\",\n        \"description\": \"\"\n      }\n    },\n    {\n      \"column\": \"muscle stiffness\",\n      \"properties\": {\n        \"dtype\": \"category\",\n        \"num_unique_values\": 2,\n        \"samples\": [\n          \"No\",\n          \"Yes\"\n        ],\n        \"semantic_type\": \"\",\n        \"description\": \"\"\n      }\n    },\n    {\n      \"column\": \"Alopecia\",\n      \"properties\": {\n        \"dtype\": \"category\",\n        \"num_unique_values\": 2,\n        \"samples\": [\n          \"No\",\n          \"Yes\"\n        ],\n        \"semantic_type\": \"\",\n        \"description\": \"\"\n      }\n    },\n    {\n      \"column\": \"Obesity\",\n      \"properties\": {\n        \"dtype\": \"category\",\n        \"num_unique_values\": 2,\n        \"samples\": [\n          \"No\",\n          \"Yes\"\n        ],\n        \"semantic_type\": \"\",\n        \"description\": \"\"\n      }\n    },\n    {\n      \"column\": \"class\",\n      \"properties\": {\n        \"dtype\": \"category\",\n        \"num_unique_values\": 2,\n        \"samples\": [\n          \"Negative\",\n          \"Positive\"\n        ],\n        \"semantic_type\": \"\",\n        \"description\": \"\"\n      }\n    }\n  ]\n}"
            }
          },
          "metadata": {},
          "execution_count": 117
        }
      ]
    },
    {
      "cell_type": "code",
      "source": [
        "# Obtener los tipos de variables en el dataset\n",
        "data_types = data.dtypes\n",
        "data_types\n"
      ],
      "metadata": {
        "colab": {
          "base_uri": "https://localhost:8080/",
          "height": 617
        },
        "id": "QaviZjO7HQRT",
        "outputId": "a3fe4010-d58a-4dba-a0dd-4b33913a5eef"
      },
      "execution_count": 118,
      "outputs": [
        {
          "output_type": "execute_result",
          "data": {
            "text/plain": [
              "Age                    int64\n",
              "Gender                object\n",
              "Polyuria              object\n",
              "Polydipsia            object\n",
              "sudden weight loss    object\n",
              "weakness              object\n",
              "Polyphagia            object\n",
              "Genital thrush        object\n",
              "visual blurring       object\n",
              "Itching               object\n",
              "Irritability          object\n",
              "delayed healing       object\n",
              "partial paresis       object\n",
              "muscle stiffness      object\n",
              "Alopecia              object\n",
              "Obesity               object\n",
              "class                 object\n",
              "dtype: object"
            ],
            "text/html": [
              "<div>\n",
              "<style scoped>\n",
              "    .dataframe tbody tr th:only-of-type {\n",
              "        vertical-align: middle;\n",
              "    }\n",
              "\n",
              "    .dataframe tbody tr th {\n",
              "        vertical-align: top;\n",
              "    }\n",
              "\n",
              "    .dataframe thead th {\n",
              "        text-align: right;\n",
              "    }\n",
              "</style>\n",
              "<table border=\"1\" class=\"dataframe\">\n",
              "  <thead>\n",
              "    <tr style=\"text-align: right;\">\n",
              "      <th></th>\n",
              "      <th>0</th>\n",
              "    </tr>\n",
              "  </thead>\n",
              "  <tbody>\n",
              "    <tr>\n",
              "      <th>Age</th>\n",
              "      <td>int64</td>\n",
              "    </tr>\n",
              "    <tr>\n",
              "      <th>Gender</th>\n",
              "      <td>object</td>\n",
              "    </tr>\n",
              "    <tr>\n",
              "      <th>Polyuria</th>\n",
              "      <td>object</td>\n",
              "    </tr>\n",
              "    <tr>\n",
              "      <th>Polydipsia</th>\n",
              "      <td>object</td>\n",
              "    </tr>\n",
              "    <tr>\n",
              "      <th>sudden weight loss</th>\n",
              "      <td>object</td>\n",
              "    </tr>\n",
              "    <tr>\n",
              "      <th>weakness</th>\n",
              "      <td>object</td>\n",
              "    </tr>\n",
              "    <tr>\n",
              "      <th>Polyphagia</th>\n",
              "      <td>object</td>\n",
              "    </tr>\n",
              "    <tr>\n",
              "      <th>Genital thrush</th>\n",
              "      <td>object</td>\n",
              "    </tr>\n",
              "    <tr>\n",
              "      <th>visual blurring</th>\n",
              "      <td>object</td>\n",
              "    </tr>\n",
              "    <tr>\n",
              "      <th>Itching</th>\n",
              "      <td>object</td>\n",
              "    </tr>\n",
              "    <tr>\n",
              "      <th>Irritability</th>\n",
              "      <td>object</td>\n",
              "    </tr>\n",
              "    <tr>\n",
              "      <th>delayed healing</th>\n",
              "      <td>object</td>\n",
              "    </tr>\n",
              "    <tr>\n",
              "      <th>partial paresis</th>\n",
              "      <td>object</td>\n",
              "    </tr>\n",
              "    <tr>\n",
              "      <th>muscle stiffness</th>\n",
              "      <td>object</td>\n",
              "    </tr>\n",
              "    <tr>\n",
              "      <th>Alopecia</th>\n",
              "      <td>object</td>\n",
              "    </tr>\n",
              "    <tr>\n",
              "      <th>Obesity</th>\n",
              "      <td>object</td>\n",
              "    </tr>\n",
              "    <tr>\n",
              "      <th>class</th>\n",
              "      <td>object</td>\n",
              "    </tr>\n",
              "  </tbody>\n",
              "</table>\n",
              "</div><br><label><b>dtype:</b> object</label>"
            ]
          },
          "metadata": {},
          "execution_count": 118
        }
      ]
    },
    {
      "cell_type": "code",
      "source": [
        "data.shape"
      ],
      "metadata": {
        "colab": {
          "base_uri": "https://localhost:8080/"
        },
        "id": "u6cTJFeOKx7n",
        "outputId": "737b901e-acd2-4b78-b526-c2db685a763f"
      },
      "execution_count": 119,
      "outputs": [
        {
          "output_type": "execute_result",
          "data": {
            "text/plain": [
              "(520, 17)"
            ]
          },
          "metadata": {},
          "execution_count": 119
        }
      ]
    },
    {
      "cell_type": "markdown",
      "source": [
        "# Pre-procesamiento del dataset\n",
        "\n",
        "Se verificaran valores nulos, codificación de variables categóricas, separación de datos en variables de entrada/salida, y normalización.\n",
        "\n",
        "\n"
      ],
      "metadata": {
        "id": "RsI7o09cIzBw"
      }
    },
    {
      "cell_type": "code",
      "source": [
        "# Verificar si hay valores nulos en el dataset\n",
        "null_values = data.isnull().sum()\n",
        "null_values[null_values > 0]"
      ],
      "metadata": {
        "colab": {
          "base_uri": "https://localhost:8080/",
          "height": 84
        },
        "id": "sClWirEmGrIY",
        "outputId": "a6a44dbc-55f7-4c0d-cae5-0268bde0a48f"
      },
      "execution_count": 120,
      "outputs": [
        {
          "output_type": "execute_result",
          "data": {
            "text/plain": [
              "Series([], dtype: int64)"
            ],
            "text/html": [
              "<div>\n",
              "<style scoped>\n",
              "    .dataframe tbody tr th:only-of-type {\n",
              "        vertical-align: middle;\n",
              "    }\n",
              "\n",
              "    .dataframe tbody tr th {\n",
              "        vertical-align: top;\n",
              "    }\n",
              "\n",
              "    .dataframe thead th {\n",
              "        text-align: right;\n",
              "    }\n",
              "</style>\n",
              "<table border=\"1\" class=\"dataframe\">\n",
              "  <thead>\n",
              "    <tr style=\"text-align: right;\">\n",
              "      <th></th>\n",
              "      <th>0</th>\n",
              "    </tr>\n",
              "  </thead>\n",
              "  <tbody>\n",
              "  </tbody>\n",
              "</table>\n",
              "</div><br><label><b>dtype:</b> int64</label>"
            ]
          },
          "metadata": {},
          "execution_count": 120
        }
      ]
    },
    {
      "cell_type": "code",
      "source": [
        "# Codificamos las variables categóricas (o y 1)\n",
        "label_encoder = LabelEncoder()\n",
        "for column in data.columns:\n",
        "    if data[column].dtype == \"object\":\n",
        "        data[column] = label_encoder.fit_transform(data[column])"
      ],
      "metadata": {
        "id": "8ngjR2a-EctB"
      },
      "execution_count": 121,
      "outputs": []
    },
    {
      "cell_type": "code",
      "source": [
        "# Separamos la variable objetivo\n",
        "X = data.drop('class', axis=1)\n",
        "y = data['class']\n"
      ],
      "metadata": {
        "id": "eOqtyNgiEiZ1"
      },
      "execution_count": 122,
      "outputs": []
    },
    {
      "cell_type": "code",
      "source": [
        "# Dividimos en conjuntos de entrenamiento y prueba\n",
        "X_train, X_test, y_train, y_test = train_test_split(X, y, test_size=0.2, random_state=42)"
      ],
      "metadata": {
        "id": "W6Tgg_n8LbvF"
      },
      "execution_count": 123,
      "outputs": []
    },
    {
      "cell_type": "code",
      "source": [
        "# Estandarizamos las características\n",
        "scaler = StandardScaler()\n",
        "X_train = scaler.fit_transform(X_train)\n",
        "X_test = scaler.transform(X_test)\n",
        "\n",
        "# Mostramos los datos procesados\n",
        "X_train[:5], y_train[:5]\n"
      ],
      "metadata": {
        "colab": {
          "base_uri": "https://localhost:8080/"
        },
        "id": "RIUDyL1EC2mp",
        "outputId": "163e8bd2-ddf8-4264-ed4e-d79576ffc81e"
      },
      "execution_count": 124,
      "outputs": [
        {
          "output_type": "execute_result",
          "data": {
            "text/plain": [
              "(array([[ 0.3866783 ,  0.73923501,  1.02927447,  1.1506617 ,  1.24585201,\n",
              "          0.84376191,  1.10125654, -0.52915026,  1.06458129, -0.99520381,\n",
              "          1.72101852, -0.9258201 ,  1.17932379, -0.77857409,  1.31789306,\n",
              "         -0.43424812],\n",
              "        [-0.59566168,  0.73923501,  1.02927447,  1.1506617 ,  1.24585201,\n",
              "          0.84376191,  1.10125654,  1.88982237,  1.06458129,  1.00481931,\n",
              "          1.72101852, -0.9258201 , -0.84794355, -0.77857409, -0.75878691,\n",
              "          2.30283093],\n",
              "        [ 0.46853996,  0.73923501, -0.97155815, -0.86906517,  1.24585201,\n",
              "          0.84376191, -0.90805363,  1.88982237, -0.93933644, -0.99520381,\n",
              "         -0.58105127,  1.08012345, -0.84794355, -0.77857409,  1.31789306,\n",
              "         -0.43424812],\n",
              "        [ 0.1410933 , -1.35274978, -0.97155815, -0.86906517, -0.80266355,\n",
              "          0.84376191, -0.90805363, -0.52915026,  1.06458129,  1.00481931,\n",
              "         -0.58105127,  1.08012345, -0.84794355, -0.77857409,  1.31789306,\n",
              "         -0.43424812],\n",
              "        [-0.84124668,  0.73923501, -0.97155815, -0.86906517, -0.80266355,\n",
              "         -1.18516846, -0.90805363, -0.52915026, -0.93933644, -0.99520381,\n",
              "         -0.58105127, -0.9258201 , -0.84794355, -0.77857409, -0.75878691,\n",
              "         -0.43424812]]),\n",
              " 434    1\n",
              " 436    1\n",
              " 208    0\n",
              " 332    0\n",
              " 220    0\n",
              " Name: class, dtype: int64)"
            ]
          },
          "metadata": {},
          "execution_count": 124
        }
      ]
    },
    {
      "cell_type": "markdown",
      "source": [
        "Todas las columnas categóricas fueron convertidas a valores numéricos.\n",
        "Los datos se dividieron en conjuntos de entrenamiento y prueba, con un 80% de datos para entrenamiento y un 20% para prueba.\n",
        "Estandarización: Las características numéricas fueron estandarizadas para que tengan media cero y desviación estándar uno, lo cual es mejor para los modelos de aprendizaje automático."
      ],
      "metadata": {
        "id": "-cazpLw4MZ8U"
      }
    },
    {
      "cell_type": "markdown",
      "source": [
        "# Explicación del objetivo\n",
        "El objetivo de este modelo es clasificar si una persona tiene o no diabetes en función de una serie de síntomas y características personales. Este es un problema de clasificación binaria, donde la variable de salida es la columna class, que tiene dos clases posibles:\n",
        "\n",
        "Positive (1): Indica que la persona tiene diabetes.\n",
        "Negative (0): Indica que la persona no tiene diabetes.\n",
        "Cada registro representa la información de un paciente.\n",
        "\n",
        "Dado que la clasificación es binaria, el modelo tratará de predecir si un nuevo conjunto de datos de síntomas corresponde a un caso positivo o negativo de diabetes, basándose en patrones aprendidos del conjunto de datos de entrenamiento."
      ],
      "metadata": {
        "id": "wbm8A1OuLzy0"
      }
    },
    {
      "cell_type": "markdown",
      "source": [
        "# Elección de modelos de clasificación a entrenar.\n",
        "\n",
        "\n",
        "##Árbol de Decisión"
      ],
      "metadata": {
        "id": "LMm9otNYOqFy"
      }
    },
    {
      "cell_type": "markdown",
      "source": [
        "Explicación:\n",
        "\n",
        "\n",
        "Creamos una instancia del modelo. Se utiliza random_state=42 para obtener resultados reproducibles.\n",
        "Entrenar el modelo: Se entrena el modelo utilizando los datos de entrenamiento.\n",
        "\n",
        "Realizar predicciones: Se utilizan los datos de prueba para realizar predicciones utilizando el modelo entrenado. El método predict devuelve las predicciones para cada instancia en los datos de prueba, recorriendo el árbol de decisión.\n",
        "\n",
        "Evaluar el rendimiento: Se evalúa el rendimiento del modelo comparando las predicciones con los valores reales. Se utiliza la función accuracy_score para calcular la precisión del modelo, que es la proporción de predicciones correctas."
      ],
      "metadata": {
        "id": "qJnVQBNOtqpH"
      }
    },
    {
      "cell_type": "code",
      "source": [
        "from sklearn.tree import DecisionTreeClassifier\n",
        "\n",
        "# Creamos una instancia del modelo de Árbol de Decisión\n",
        "modelo_dt = DecisionTreeClassifier(random_state=42)\n",
        "\n",
        "# Entrenamos el modelo con los datos de entrenamiento\n",
        "modelo_dt.fit(X_train, y_train)\n",
        "\n",
        "# Realizamos predicciones sobre los datos de prueba\n",
        "y_pred = modelo_dt.predict(X_test)\n",
        "\n",
        "# Evaluamos el rendimiento del modelo\n",
        "from sklearn.metrics import accuracy_score\n",
        "precisionDTC = accuracy_score(y_test, y_pred)\n",
        "print(f\"Precisión del modelo: {precisionDTC}\")"
      ],
      "metadata": {
        "colab": {
          "base_uri": "https://localhost:8080/"
        },
        "id": "DsbLxi05tfpD",
        "outputId": "8f2cd038-67fb-4d97-ff74-3e6f95e3bb35"
      },
      "execution_count": 125,
      "outputs": [
        {
          "output_type": "stream",
          "name": "stdout",
          "text": [
            "Precisión del modelo: 0.9519230769230769\n"
          ]
        }
      ]
    },
    {
      "cell_type": "markdown",
      "source": [
        "##Regresión Logística"
      ],
      "metadata": {
        "id": "cpIkX8Ng1Aep"
      }
    },
    {
      "cell_type": "markdown",
      "source": [
        "Explicación:\n",
        "\n",
        "Creamos una instancia del modelo, entrenamos, realizamos prediciones y evaluamos el rendimiento del modelo comparando las predicciones con los valores reales. Se utiliza la función accuracy_score para calcular la precisión del modelo, que es la proporción de predicciones correctas."
      ],
      "metadata": {
        "id": "XkJ_vtYk11fV"
      }
    },
    {
      "cell_type": "code",
      "source": [
        "# Importamos la clase LogisticRegression\n",
        "from sklearn.linear_model import LogisticRegression\n",
        "\n",
        "# Creamos una instancia del modelo de Regresión Logística\n",
        "modelo_lr = LogisticRegression()\n",
        "\n",
        "# Entrenamos el modelo con los datos de entrenamiento\n",
        "modelo_lr.fit(X_train, y_train)\n",
        "\n",
        "# Realizamos predicciones sobre los datos de prueba\n",
        "y_pred = modelo_lr.predict(X_test)\n",
        "\n",
        "# Evaluamos el rendimiento del modelo\n",
        "from sklearn.metrics import accuracy_score\n",
        "precisionLR = accuracy_score(y_test, y_pred)\n",
        "print(f\"Precisión del modelo: {precisionLR}\")"
      ],
      "metadata": {
        "colab": {
          "base_uri": "https://localhost:8080/"
        },
        "id": "D32dWR3GmYps",
        "outputId": "ea15a8be-3527-4254-b8e1-99ca34aa1043"
      },
      "execution_count": 126,
      "outputs": [
        {
          "output_type": "stream",
          "name": "stdout",
          "text": [
            "Precisión del modelo: 0.9230769230769231\n"
          ]
        }
      ]
    },
    {
      "cell_type": "markdown",
      "source": [
        "## De los dos modelos entrenados, Regresión Logística es mejor para este caso particular que el Árbol de Decisión. Esto se debe a que la precisión obtenida con la Regresión Logística es mayor, lo que indica un mejor rendimiento en la clasificación de pacientes con y sin diabetes.\n",
        "\n"
      ],
      "metadata": {
        "id": "QOjPCw153ujW"
      }
    },
    {
      "cell_type": "code",
      "source": [
        "print(f\"Precisión del modelo de LogisticRegression : {precisionLR}\")\n",
        "print(f\"Precisión del modelo de DecisionTreeClassifier: {precisionDTC}\")"
      ],
      "metadata": {
        "colab": {
          "base_uri": "https://localhost:8080/"
        },
        "id": "UAXzfXhJ26dk",
        "outputId": "218a6bc4-9e00-4167-dfdd-2a38a3c40a9d"
      },
      "execution_count": 127,
      "outputs": [
        {
          "output_type": "stream",
          "name": "stdout",
          "text": [
            "Precisión del modelo de LogisticRegression : 0.9230769230769231\n",
            "Precisión del modelo de DecisionTreeClassifier: 0.9519230769230769\n"
          ]
        }
      ]
    },
    {
      "cell_type": "markdown",
      "source": [
        "##Matriz de confucion"
      ],
      "metadata": {
        "id": "W4MAX6dG13bC"
      }
    },
    {
      "cell_type": "markdown",
      "source": [
        "Explicación:\n",
        "\n",
        "La matriz de confusión muestra la cantidad de predicciones correctas e incorrectas del modelo organizadas en una tabla.\n",
        "\n",
        "Verdaderos Negativos (VN): En la esquina superior izquierda. Representan las instancias que el modelo predijo correctamente como No Diabetes.\n",
        "\n",
        "Falsos Positivos (FP): En la esquina superior derecha. Representan las instancias que el modelo predijo incorrectamente como Diabetes cuando en realidad son No Diabetes.\n",
        "\n",
        "Falsos Negativos (FN): En la esquina inferior izquierda. Representan las instancias que el modelo predijo incorrectamente como No Diabetes cuando en realidad son Diabetes.\n",
        "\n",
        "Verdaderos Positivos (VP): En la esquina inferior derecha. Representan las instancias que el modelo predijo correctamente como Diabetes."
      ],
      "metadata": {
        "id": "3vRsshlUvnLl"
      }
    },
    {
      "cell_type": "code",
      "source": [
        "from sklearn.metrics import confusion_matrix\n",
        "import seaborn as sns\n",
        "import matplotlib.pyplot as plt\n",
        "\n",
        "# Calculamos la matriz de confusión\n",
        "matriz_confusion = confusion_matrix(y_test, y_pred)\n",
        "\n",
        "# Creamos una visualización de la matriz de confusión\n",
        "plt.figure(figsize=(8, 6))\n",
        "sns.heatmap(matriz_confusion, annot=True, fmt=\"d\", cmap=\"Blues\",\n",
        "            xticklabels=[\"No Diabetes\", \"Diabetes\"],\n",
        "            yticklabels=[\"No Diabetes\", \"Diabetes\"])\n",
        "plt.xlabel(\"Predicción\")\n",
        "plt.ylabel(\"Valor Real\")\n",
        "plt.title(\"Matriz de Confusión - Regresión Logística\")\n",
        "plt.show()"
      ],
      "metadata": {
        "colab": {
          "base_uri": "https://localhost:8080/",
          "height": 565
        },
        "id": "rV0SPWnFvhHG",
        "outputId": "ec1c503c-eba2-4cf3-e334-5a440bd144d2"
      },
      "execution_count": 128,
      "outputs": [
        {
          "output_type": "display_data",
          "data": {
            "text/plain": [
              "<Figure size 800x600 with 2 Axes>"
            ],
            "image/png": "[encoded data removed]"
          },
          "metadata": {}
        }
      ]
    },
    {
      "cell_type": "markdown",
      "source": [
        "##Conclucion del la matriz\n",
        "\n",
        "Como vemos la matriz de confusión tiene muchos VP y VN, y pocos FP y FN, lo que significa que el modelo tiene una buena capacidad para clasificar correctamente a las personas con y sin diabetes. Si hay muchos FP, indica que el modelo está clasificando erróneamente a personas sanas como diabéticas. Si hay muchos FN, significa que el modelo está fallando en la detección de personas con diabetes."
      ],
      "metadata": {
        "id": "Nn9HXlIKBg5L"
      }
    },
    {
      "cell_type": "markdown",
      "source": [
        "# Regresión Logística con diferentes hiperparametros"
      ],
      "metadata": {
        "id": "4G7skjS3SPKr"
      }
    },
    {
      "source": [
        "parametros = {\n",
        "       'penalty': ['l1', 'l2'],\n",
        "       'C': [0.1, 1, 10],\n",
        "       'solver': ['liblinear', 'saga']\n",
        "   }"
      ],
      "cell_type": "code",
      "metadata": {
        "id": "U49y8y8IzgSS"
      },
      "execution_count": 129,
      "outputs": []
    },
    {
      "cell_type": "markdown",
      "source": [
        "Este código define un diccionario llamado parametros que se utiliza para configurar una búsqueda de cuadrícula (Grid Search) para el modelo de Regresión Logística. La búsqueda de cuadrícula se usa para encontrar la mejor combinación de hiperparámetros para el modelo, aquellos valores que producen el mejor rendimiento.\n",
        "\n",
        "\n",
        "**Penalty**: Este hiperparámetro controla el tipo de regularización que se aplica al modelo. La regularización se usa para evitar el sobreajuste, que es cuando el modelo se ajusta demasiado bien a los datos de entrenamiento pero no generaliza bien a datos nuevos.\n",
        "\n",
        "Las opciones **l1 y l2** corresponden a dos tipos diferentes de regularización. 'l1' puede llevar a que algunos coeficientes del modelo sean cero, lo que puede ser útil para la selección de características.\n",
        "\n",
        "C: Este hiperparámetro controla la fuerza de la regularización. Un valor más pequeño de C significa una regularización más fuerte. En este caso, se prueban tres valores diferentes: 0.1, 1 y 10.\n",
        "\n",
        "**solver:** Este hiperparámetro especifica el algoritmo que se utiliza para optimizar el modelo. En este caso, se prueban dos algoritmos diferentes: 'liblinear' y 'saga'. 'liblinear' es un buen algoritmo para conjuntos de datos pequeños, mientras que 'saga' es más eficiente para conjuntos de datos grandes. Los solvers 'liblinear' y 'saga' son compatibles con las penalizaciones 'l1' y 'l2'.\n"
      ],
      "metadata": {
        "id": "jRw_sm59_iT1"
      }
    },
    {
      "source": [
        "grid_search = GridSearchCV(LogisticRegression(), parametros, cv=5, scoring='accuracy')\n"
      ],
      "cell_type": "code",
      "metadata": {
        "id": "-9zdSeqizhy-"
      },
      "execution_count": 130,
      "outputs": []
    },
    {
      "cell_type": "markdown",
      "source": [
        "Se crea un objeto llamado **grid_search** que se encargará de realizar la búsqueda de cuadrícula y se especifica que el modelo que se quiere optimizar es un modelo de Regresión Logística.\n",
        "\n",
        "parametros: Este argumento es el diccionario definido previamente que contiene los hiperparámetros que se quieren probar y sus posibles valores.\n",
        "Se probarán todas las combinaciones posibles de penalty, C y solver.\n",
        "\n",
        "cv=5: Indica que se utilizará una validación cruzada con 5 pliegues (folds). Esto significa que los datos de entrenamiento se dividirán en 5 partes, y el modelo se entrenará 5 veces, utilizando cada vez una parte diferente como conjunto de prueba y las otras 4 como conjunto de entrenamiento.\n",
        "La métrica que se utilizará para evaluar el rendimiento del modelo es la precisión (accuracy). La precisión es la proporción de predicciones correctas sobre el total de predicciones."
      ],
      "metadata": {
        "id": "59lrULJ7UH2m"
      }
    },
    {
      "source": [
        "grid_search.fit(X_train, y_train);"
      ],
      "cell_type": "code",
      "metadata": {
        "id": "e5zJKmqpzjAQ"
      },
      "execution_count": 131,
      "outputs": []
    },
    {
      "source": [
        "resultados = grid_search.cv_results_\n",
        "\n",
        "# Extraer la precisión media para cada combinación de hiperparámetros\n",
        "precisiones_medias = resultados['mean_test_score']\n",
        "\n",
        "# Creamos una lista de nombres que representan cada combinación de los hiperparámetros probados.\n",
        "nombres_hiperparametros = [str(params) for params in resultados['params']]\n",
        "\n",
        "# Graficar los resultados\n",
        "plt.figure(figsize=(10, 6))\n",
        "plt.plot(nombres_hiperparametros, precisiones_medias, marker='o')\n",
        "plt.xlabel('Combinación de Hiperparámetros')\n",
        "plt.ylabel('Precisión Media')\n",
        "plt.title('Desempeño del Modelo LogisticRegression con Diferentes Hiperparámetros')\n",
        "plt.xticks(rotation=90)  # Rotar las etiquetas del eje x para mejor legibilidad\n",
        "plt.tight_layout()\n",
        "plt.show()"
      ],
      "cell_type": "code",
      "metadata": {
        "colab": {
          "base_uri": "https://localhost:8080/",
          "height": 607
        },
        "id": "Y-ZmszLkzwqo",
        "outputId": "e881e6d0-d527-4f18-9ef8-be681c225fac"
      },
      "execution_count": 132,
      "outputs": [
        {
          "output_type": "display_data",
          "data": {
            "text/plain": [
              "<Figure size 1000x600 with 1 Axes>"
            ],
            "image/png": "[encoded data removed]"
          },
          "metadata": {}
        }
      ]
    },
    {
      "cell_type": "markdown",
      "source": [
        "El gráfico analiza el rendimiento del modelo de Regresión Logística en función de diferentes combinaciones de hiperparámetros (penalty, C y solver). Cada punto representa una configuración específica y su precisión media durante la validación cruzada.\n",
        "\n",
        "Interpretación clave:\n",
        "\n",
        "Variación en precisión: La precisión varía según la combinación de hiperparámetros, destacándose algunas configuraciones por su mayor rendimiento.\n",
        "Combinación óptima: El punto más alto del gráfico indica la configuración con mayor precisión media, considerada ideal para el modelo.\n",
        "Influencia de los hiperparámetros: Se puede evaluar cómo afectan al rendimiento aspectos como el tipo de penalización (l1 o l2), el valor de C o el solver.\n",
        "Facilidad de comparación: El gráfico permite identificar visualmente las configuraciones más prometedoras.\n",
        "En resumen, esta representación visual facilita identificar la combinación óptima de hiperparámetros para maximizar la precisión del modelo, proporcionando información valiosa para el ajuste y optimización del rendimiento."
      ],
      "metadata": {
        "id": "64PV6ZLobJsH"
      }
    },
    {
      "cell_type": "markdown",
      "source": [
        "##Creamos un nuevo modelo con esa configuración, lo entrenamos, realizamos predicciones sobre datos de prueba, evalúamos su precisión y por ultimo mestramos la precisión obtenida del modelo optimizado."
      ],
      "metadata": {
        "id": "K6uvik2OfyXO"
      }
    },
    {
      "source": [
        "mejores_hiperparametros = grid_search.best_params_\n",
        "print(\"Los mejores hiperparametros:\", mejores_hiperparametros)"
      ],
      "cell_type": "code",
      "metadata": {
        "colab": {
          "base_uri": "https://localhost:8080/"
        },
        "id": "jBYc-2Jib7-a",
        "outputId": "e62c663a-90e7-4024-d0e3-10e4c36ca138"
      },
      "execution_count": 143,
      "outputs": [
        {
          "output_type": "stream",
          "name": "stdout",
          "text": [
            "Los mejores hiperparametros: {'C': 0.1, 'penalty': 'l2', 'solver': 'saga'}\n"
          ]
        }
      ]
    },
    {
      "source": [
        "modelo_lr_optimizado = LogisticRegression(**mejores_hiperparametros)"
      ],
      "cell_type": "code",
      "metadata": {
        "id": "nwSAeZOxb8er"
      },
      "execution_count": 136,
      "outputs": []
    },
    {
      "cell_type": "markdown",
      "source": [],
      "metadata": {
        "id": "6sRE6iLsgKOw"
      }
    },
    {
      "source": [
        "modelo_lr_optimizado.fit(X_train, y_train);"
      ],
      "cell_type": "code",
      "metadata": {
        "id": "m3naEr9qb84v"
      },
      "execution_count": 141,
      "outputs": []
    },
    {
      "source": [
        "y_pred_optimizado = modelo_lr_optimizado.predict(X_test)\n",
        "precision_optimizada = accuracy_score(y_test, y_pred_optimizado)\n",
        "print(f\"Precisión del modelo optimizado: {precision_optimizada}\")"
      ],
      "cell_type": "code",
      "metadata": {
        "colab": {
          "base_uri": "https://localhost:8080/"
        },
        "id": "aBzEszKJb9Sj",
        "outputId": "3d534211-8d8c-4a76-d9cc-8575e58c60a3"
      },
      "execution_count": 140,
      "outputs": [
        {
          "output_type": "stream",
          "name": "stdout",
          "text": [
            "Precisión del modelo optimizado: 0.9326923076923077\n"
          ]
        }
      ]
    },
    {
      "cell_type": "markdown",
      "source": [
        "## Conclusión Final\n",
        "En el análisis que se realizo para predecir la diabetes en pacientes utilizando aprendizaje automático, después de preparar y procesar los datos, se probaron dos modelos: Árbol de Decisión y Regresión Logística.\n",
        "La Regresión Logística mostró mejor precisión y se seleccionó como el modelo más adecuado.\n",
        "\n",
        "Se optimizaron los hiperparámetros de este modelo mediante Grid Search, lo que permitió mejorar su rendimiento.\n",
        "\n",
        "Se avaluo con una matriz de confusión confirmando su capacidad para clasificar correctamente a pacientes con y sin diabetes, con pocos errores.\n",
        "\n",
        "En conclusión, el modelo optimizado de Regresión Logística demuestro ser el mejor para este proyecto."
      ],
      "metadata": {
        "id": "FV-qJ5wpeJyD"
      }
    }
  ]
}